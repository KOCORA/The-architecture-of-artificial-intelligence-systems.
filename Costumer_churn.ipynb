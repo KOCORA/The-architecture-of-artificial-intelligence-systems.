{
  "nbformat": 4,
  "nbformat_minor": 0,
  "metadata": {
    "colab": {
      "provenance": [],
      "authorship_tag": "ABX9TyNsukQ5ZyFN/UJKlOG+5w3O",
      "include_colab_link": true
    },
    "kernelspec": {
      "name": "python3",
      "display_name": "Python 3"
    },
    "language_info": {
      "name": "python"
    },
    "widgets": {
      "application/vnd.jupyter.widget-state+json": {
        "506865416e0c4380a7120a9cadba433c": {
          "model_module": "@jupyter-widgets/controls",
          "model_name": "VBoxModel",
          "model_module_version": "1.5.0",
          "state": {
            "_dom_classes": [
              "widget-interact"
            ],
            "_model_module": "@jupyter-widgets/controls",
            "_model_module_version": "1.5.0",
            "_model_name": "VBoxModel",
            "_view_count": null,
            "_view_module": "@jupyter-widgets/controls",
            "_view_module_version": "1.5.0",
            "_view_name": "VBoxView",
            "box_style": "",
            "children": [
              "IPY_MODEL_24c30f5ed8e042839af711752b5b6046",
              "IPY_MODEL_4e2ba7403c614d939bdf6ee7a88a0287"
            ],
            "layout": "IPY_MODEL_3b8d48eb86c34fc1a122a5e2615e17cf"
          }
        },
        "24c30f5ed8e042839af711752b5b6046": {
          "model_module": "@jupyter-widgets/controls",
          "model_name": "DropdownModel",
          "model_module_version": "1.5.0",
          "state": {
            "_dom_classes": [],
            "_model_module": "@jupyter-widgets/controls",
            "_model_module_version": "1.5.0",
            "_model_name": "DropdownModel",
            "_options_labels": [
              "gender",
              "SeniorCitizen",
              "Partner",
              "Dependents",
              "PhoneService",
              "MultipleLines",
              "InternetService",
              "OnlineSecurity",
              "OnlineBackup",
              "DeviceProtection",
              "TechSupport",
              "StreamingTV",
              "StreamingMovies",
              "Contract",
              "PaperlessBilling",
              "PaymentMethod",
              "Churn"
            ],
            "_view_count": null,
            "_view_module": "@jupyter-widgets/controls",
            "_view_module_version": "1.5.0",
            "_view_name": "DropdownView",
            "description": "a",
            "description_tooltip": null,
            "disabled": false,
            "index": 0,
            "layout": "IPY_MODEL_1b790f39b6d94d3aa1e7322bc51e3e11",
            "style": "IPY_MODEL_fd9231a789c9422d88bced30d725847a"
          }
        },
        "4e2ba7403c614d939bdf6ee7a88a0287": {
          "model_module": "@jupyter-widgets/output",
          "model_name": "OutputModel",
          "model_module_version": "1.0.0",
          "state": {
            "_dom_classes": [],
            "_model_module": "@jupyter-widgets/output",
            "_model_module_version": "1.0.0",
            "_model_name": "OutputModel",
            "_view_count": null,
            "_view_module": "@jupyter-widgets/output",
            "_view_module_version": "1.0.0",
            "_view_name": "OutputView",
            "layout": "IPY_MODEL_3761b88f0d5f4329bb214e79dc8da5c6",
            "msg_id": "",
            "outputs": [
              {
                "output_type": "display_data",
                "data": {
                  "text/plain": "<function matplotlib.pyplot.show(close=None, block=None)>"
                },
                "metadata": {}
              }
            ]
          }
        },
        "3b8d48eb86c34fc1a122a5e2615e17cf": {
          "model_module": "@jupyter-widgets/base",
          "model_name": "LayoutModel",
          "model_module_version": "1.2.0",
          "state": {
            "_model_module": "@jupyter-widgets/base",
            "_model_module_version": "1.2.0",
            "_model_name": "LayoutModel",
            "_view_count": null,
            "_view_module": "@jupyter-widgets/base",
            "_view_module_version": "1.2.0",
            "_view_name": "LayoutView",
            "align_content": null,
            "align_items": null,
            "align_self": null,
            "border": null,
            "bottom": null,
            "display": null,
            "flex": null,
            "flex_flow": null,
            "grid_area": null,
            "grid_auto_columns": null,
            "grid_auto_flow": null,
            "grid_auto_rows": null,
            "grid_column": null,
            "grid_gap": null,
            "grid_row": null,
            "grid_template_areas": null,
            "grid_template_columns": null,
            "grid_template_rows": null,
            "height": null,
            "justify_content": null,
            "justify_items": null,
            "left": null,
            "margin": null,
            "max_height": null,
            "max_width": null,
            "min_height": null,
            "min_width": null,
            "object_fit": null,
            "object_position": null,
            "order": null,
            "overflow": null,
            "overflow_x": null,
            "overflow_y": null,
            "padding": null,
            "right": null,
            "top": null,
            "visibility": null,
            "width": null
          }
        },
        "1b790f39b6d94d3aa1e7322bc51e3e11": {
          "model_module": "@jupyter-widgets/base",
          "model_name": "LayoutModel",
          "model_module_version": "1.2.0",
          "state": {
            "_model_module": "@jupyter-widgets/base",
            "_model_module_version": "1.2.0",
            "_model_name": "LayoutModel",
            "_view_count": null,
            "_view_module": "@jupyter-widgets/base",
            "_view_module_version": "1.2.0",
            "_view_name": "LayoutView",
            "align_content": null,
            "align_items": null,
            "align_self": null,
            "border": null,
            "bottom": null,
            "display": null,
            "flex": null,
            "flex_flow": null,
            "grid_area": null,
            "grid_auto_columns": null,
            "grid_auto_flow": null,
            "grid_auto_rows": null,
            "grid_column": null,
            "grid_gap": null,
            "grid_row": null,
            "grid_template_areas": null,
            "grid_template_columns": null,
            "grid_template_rows": null,
            "height": null,
            "justify_content": null,
            "justify_items": null,
            "left": null,
            "margin": null,
            "max_height": null,
            "max_width": null,
            "min_height": null,
            "min_width": null,
            "object_fit": null,
            "object_position": null,
            "order": null,
            "overflow": null,
            "overflow_x": null,
            "overflow_y": null,
            "padding": null,
            "right": null,
            "top": null,
            "visibility": null,
            "width": null
          }
        },
        "fd9231a789c9422d88bced30d725847a": {
          "model_module": "@jupyter-widgets/controls",
          "model_name": "DescriptionStyleModel",
          "model_module_version": "1.5.0",
          "state": {
            "_model_module": "@jupyter-widgets/controls",
            "_model_module_version": "1.5.0",
            "_model_name": "DescriptionStyleModel",
            "_view_count": null,
            "_view_module": "@jupyter-widgets/base",
            "_view_module_version": "1.2.0",
            "_view_name": "StyleView",
            "description_width": ""
          }
        },
        "3761b88f0d5f4329bb214e79dc8da5c6": {
          "model_module": "@jupyter-widgets/base",
          "model_name": "LayoutModel",
          "model_module_version": "1.2.0",
          "state": {
            "_model_module": "@jupyter-widgets/base",
            "_model_module_version": "1.2.0",
            "_model_name": "LayoutModel",
            "_view_count": null,
            "_view_module": "@jupyter-widgets/base",
            "_view_module_version": "1.2.0",
            "_view_name": "LayoutView",
            "align_content": null,
            "align_items": null,
            "align_self": null,
            "border": null,
            "bottom": null,
            "display": null,
            "flex": null,
            "flex_flow": null,
            "grid_area": null,
            "grid_auto_columns": null,
            "grid_auto_flow": null,
            "grid_auto_rows": null,
            "grid_column": null,
            "grid_gap": null,
            "grid_row": null,
            "grid_template_areas": null,
            "grid_template_columns": null,
            "grid_template_rows": null,
            "height": null,
            "justify_content": null,
            "justify_items": null,
            "left": null,
            "margin": null,
            "max_height": null,
            "max_width": null,
            "min_height": null,
            "min_width": null,
            "object_fit": null,
            "object_position": null,
            "order": null,
            "overflow": null,
            "overflow_x": null,
            "overflow_y": null,
            "padding": null,
            "right": null,
            "top": null,
            "visibility": null,
            "width": null
          }
        },
        "c83731e350de42ad994e473734731cd0": {
          "model_module": "@jupyter-widgets/controls",
          "model_name": "VBoxModel",
          "model_module_version": "1.5.0",
          "state": {
            "_dom_classes": [
              "widget-interact"
            ],
            "_model_module": "@jupyter-widgets/controls",
            "_model_module_version": "1.5.0",
            "_model_name": "VBoxModel",
            "_view_count": null,
            "_view_module": "@jupyter-widgets/controls",
            "_view_module_version": "1.5.0",
            "_view_name": "VBoxView",
            "box_style": "",
            "children": [
              "IPY_MODEL_92b635ec8c9a420e980d5710bf29bda4",
              "IPY_MODEL_2ded2aba143347f49f3a785095506d6a"
            ],
            "layout": "IPY_MODEL_6ccbe1acc77a40688d2fd0809c805bbb"
          }
        },
        "92b635ec8c9a420e980d5710bf29bda4": {
          "model_module": "@jupyter-widgets/controls",
          "model_name": "DropdownModel",
          "model_module_version": "1.5.0",
          "state": {
            "_dom_classes": [],
            "_model_module": "@jupyter-widgets/controls",
            "_model_module_version": "1.5.0",
            "_model_name": "DropdownModel",
            "_options_labels": [
              "tenure",
              "MonthlyCharges",
              "TotalCharges"
            ],
            "_view_count": null,
            "_view_module": "@jupyter-widgets/controls",
            "_view_module_version": "1.5.0",
            "_view_name": "DropdownView",
            "description": "b",
            "description_tooltip": null,
            "disabled": false,
            "index": 0,
            "layout": "IPY_MODEL_2da7728db80d49d99c84fec062ca98b7",
            "style": "IPY_MODEL_534f429c211d40e6a7f2aa0eb98856e3"
          }
        },
        "2ded2aba143347f49f3a785095506d6a": {
          "model_module": "@jupyter-widgets/output",
          "model_name": "OutputModel",
          "model_module_version": "1.0.0",
          "state": {
            "_dom_classes": [],
            "_model_module": "@jupyter-widgets/output",
            "_model_module_version": "1.0.0",
            "_model_name": "OutputModel",
            "_view_count": null,
            "_view_module": "@jupyter-widgets/output",
            "_view_module_version": "1.0.0",
            "_view_name": "OutputView",
            "layout": "IPY_MODEL_8de0cecdb8ae45e0922d340e27ae58bf",
            "msg_id": "",
            "outputs": [
              {
                "output_type": "stream",
                "name": "stderr",
                "text": [
                  "<ipython-input-18-ee34776571c3>:8: UserWarning: \n",
                  "\n",
                  "`distplot` is a deprecated function and will be removed in seaborn v0.14.0.\n",
                  "\n",
                  "Please adapt your code to use either `displot` (a figure-level function with\n",
                  "similar flexibility) or `histplot` (an axes-level function for histograms).\n",
                  "\n",
                  "For a guide to updating your code to use the new functions, please see\n",
                  "https://gist.github.com/mwaskom/de44147ed2974457ad6372750bbe5751\n",
                  "\n",
                  "  sns.distplot(df[b], kde=False)\n"
                ]
              },
              {
                "output_type": "display_data",
                "data": {
                  "text/plain": "<Figure size 640x480 with 1 Axes>",
                  "image/png": "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\n"
                },
                "metadata": {}
              }
            ]
          }
        },
        "6ccbe1acc77a40688d2fd0809c805bbb": {
          "model_module": "@jupyter-widgets/base",
          "model_name": "LayoutModel",
          "model_module_version": "1.2.0",
          "state": {
            "_model_module": "@jupyter-widgets/base",
            "_model_module_version": "1.2.0",
            "_model_name": "LayoutModel",
            "_view_count": null,
            "_view_module": "@jupyter-widgets/base",
            "_view_module_version": "1.2.0",
            "_view_name": "LayoutView",
            "align_content": null,
            "align_items": null,
            "align_self": null,
            "border": null,
            "bottom": null,
            "display": null,
            "flex": null,
            "flex_flow": null,
            "grid_area": null,
            "grid_auto_columns": null,
            "grid_auto_flow": null,
            "grid_auto_rows": null,
            "grid_column": null,
            "grid_gap": null,
            "grid_row": null,
            "grid_template_areas": null,
            "grid_template_columns": null,
            "grid_template_rows": null,
            "height": null,
            "justify_content": null,
            "justify_items": null,
            "left": null,
            "margin": null,
            "max_height": null,
            "max_width": null,
            "min_height": null,
            "min_width": null,
            "object_fit": null,
            "object_position": null,
            "order": null,
            "overflow": null,
            "overflow_x": null,
            "overflow_y": null,
            "padding": null,
            "right": null,
            "top": null,
            "visibility": null,
            "width": null
          }
        },
        "2da7728db80d49d99c84fec062ca98b7": {
          "model_module": "@jupyter-widgets/base",
          "model_name": "LayoutModel",
          "model_module_version": "1.2.0",
          "state": {
            "_model_module": "@jupyter-widgets/base",
            "_model_module_version": "1.2.0",
            "_model_name": "LayoutModel",
            "_view_count": null,
            "_view_module": "@jupyter-widgets/base",
            "_view_module_version": "1.2.0",
            "_view_name": "LayoutView",
            "align_content": null,
            "align_items": null,
            "align_self": null,
            "border": null,
            "bottom": null,
            "display": null,
            "flex": null,
            "flex_flow": null,
            "grid_area": null,
            "grid_auto_columns": null,
            "grid_auto_flow": null,
            "grid_auto_rows": null,
            "grid_column": null,
            "grid_gap": null,
            "grid_row": null,
            "grid_template_areas": null,
            "grid_template_columns": null,
            "grid_template_rows": null,
            "height": null,
            "justify_content": null,
            "justify_items": null,
            "left": null,
            "margin": null,
            "max_height": null,
            "max_width": null,
            "min_height": null,
            "min_width": null,
            "object_fit": null,
            "object_position": null,
            "order": null,
            "overflow": null,
            "overflow_x": null,
            "overflow_y": null,
            "padding": null,
            "right": null,
            "top": null,
            "visibility": null,
            "width": null
          }
        },
        "534f429c211d40e6a7f2aa0eb98856e3": {
          "model_module": "@jupyter-widgets/controls",
          "model_name": "DescriptionStyleModel",
          "model_module_version": "1.5.0",
          "state": {
            "_model_module": "@jupyter-widgets/controls",
            "_model_module_version": "1.5.0",
            "_model_name": "DescriptionStyleModel",
            "_view_count": null,
            "_view_module": "@jupyter-widgets/base",
            "_view_module_version": "1.2.0",
            "_view_name": "StyleView",
            "description_width": ""
          }
        },
        "8de0cecdb8ae45e0922d340e27ae58bf": {
          "model_module": "@jupyter-widgets/base",
          "model_name": "LayoutModel",
          "model_module_version": "1.2.0",
          "state": {
            "_model_module": "@jupyter-widgets/base",
            "_model_module_version": "1.2.0",
            "_model_name": "LayoutModel",
            "_view_count": null,
            "_view_module": "@jupyter-widgets/base",
            "_view_module_version": "1.2.0",
            "_view_name": "LayoutView",
            "align_content": null,
            "align_items": null,
            "align_self": null,
            "border": null,
            "bottom": null,
            "display": null,
            "flex": null,
            "flex_flow": null,
            "grid_area": null,
            "grid_auto_columns": null,
            "grid_auto_flow": null,
            "grid_auto_rows": null,
            "grid_column": null,
            "grid_gap": null,
            "grid_row": null,
            "grid_template_areas": null,
            "grid_template_columns": null,
            "grid_template_rows": null,
            "height": null,
            "justify_content": null,
            "justify_items": null,
            "left": null,
            "margin": null,
            "max_height": null,
            "max_width": null,
            "min_height": null,
            "min_width": null,
            "object_fit": null,
            "object_position": null,
            "order": null,
            "overflow": null,
            "overflow_x": null,
            "overflow_y": null,
            "padding": null,
            "right": null,
            "top": null,
            "visibility": null,
            "width": null
          }
        },
        "0506a74abcd7448fa451f8dc9419d3b8": {
          "model_module": "@jupyter-widgets/controls",
          "model_name": "VBoxModel",
          "model_module_version": "1.5.0",
          "state": {
            "_dom_classes": [
              "widget-interact"
            ],
            "_model_module": "@jupyter-widgets/controls",
            "_model_module_version": "1.5.0",
            "_model_name": "VBoxModel",
            "_view_count": null,
            "_view_module": "@jupyter-widgets/controls",
            "_view_module_version": "1.5.0",
            "_view_name": "VBoxView",
            "box_style": "",
            "children": [
              "IPY_MODEL_0b765386b53d4381a26ead3363b003ef",
              "IPY_MODEL_442c8ec5aa8e4c48bf911b04db98bb4e"
            ],
            "layout": "IPY_MODEL_e3df235287724b5a98c81923a0083d9b"
          }
        },
        "0b765386b53d4381a26ead3363b003ef": {
          "model_module": "@jupyter-widgets/controls",
          "model_name": "DropdownModel",
          "model_module_version": "1.5.0",
          "state": {
            "_dom_classes": [],
            "_model_module": "@jupyter-widgets/controls",
            "_model_module_version": "1.5.0",
            "_model_name": "DropdownModel",
            "_options_labels": [
              "tenure",
              "MonthlyCharges",
              "TotalCharges"
            ],
            "_view_count": null,
            "_view_module": "@jupyter-widgets/controls",
            "_view_module_version": "1.5.0",
            "_view_name": "DropdownView",
            "description": "b",
            "description_tooltip": null,
            "disabled": false,
            "index": 0,
            "layout": "IPY_MODEL_ab80781b56a34e63a1075713a5939c57",
            "style": "IPY_MODEL_469b2de5854840c4bac8cb7468dac5bf"
          }
        },
        "442c8ec5aa8e4c48bf911b04db98bb4e": {
          "model_module": "@jupyter-widgets/output",
          "model_name": "OutputModel",
          "model_module_version": "1.0.0",
          "state": {
            "_dom_classes": [],
            "_model_module": "@jupyter-widgets/output",
            "_model_module_version": "1.0.0",
            "_model_name": "OutputModel",
            "_view_count": null,
            "_view_module": "@jupyter-widgets/output",
            "_view_module_version": "1.0.0",
            "_view_name": "OutputView",
            "layout": "IPY_MODEL_19e0bd4b160d495e9b3a7913db6a95c6",
            "msg_id": "",
            "outputs": [
              {
                "output_type": "display_data",
                "data": {
                  "text/plain": "<Figure size 640x480 with 1 Axes>",
                  "image/png": "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\n"
                },
                "metadata": {}
              }
            ]
          }
        },
        "e3df235287724b5a98c81923a0083d9b": {
          "model_module": "@jupyter-widgets/base",
          "model_name": "LayoutModel",
          "model_module_version": "1.2.0",
          "state": {
            "_model_module": "@jupyter-widgets/base",
            "_model_module_version": "1.2.0",
            "_model_name": "LayoutModel",
            "_view_count": null,
            "_view_module": "@jupyter-widgets/base",
            "_view_module_version": "1.2.0",
            "_view_name": "LayoutView",
            "align_content": null,
            "align_items": null,
            "align_self": null,
            "border": null,
            "bottom": null,
            "display": null,
            "flex": null,
            "flex_flow": null,
            "grid_area": null,
            "grid_auto_columns": null,
            "grid_auto_flow": null,
            "grid_auto_rows": null,
            "grid_column": null,
            "grid_gap": null,
            "grid_row": null,
            "grid_template_areas": null,
            "grid_template_columns": null,
            "grid_template_rows": null,
            "height": null,
            "justify_content": null,
            "justify_items": null,
            "left": null,
            "margin": null,
            "max_height": null,
            "max_width": null,
            "min_height": null,
            "min_width": null,
            "object_fit": null,
            "object_position": null,
            "order": null,
            "overflow": null,
            "overflow_x": null,
            "overflow_y": null,
            "padding": null,
            "right": null,
            "top": null,
            "visibility": null,
            "width": null
          }
        },
        "ab80781b56a34e63a1075713a5939c57": {
          "model_module": "@jupyter-widgets/base",
          "model_name": "LayoutModel",
          "model_module_version": "1.2.0",
          "state": {
            "_model_module": "@jupyter-widgets/base",
            "_model_module_version": "1.2.0",
            "_model_name": "LayoutModel",
            "_view_count": null,
            "_view_module": "@jupyter-widgets/base",
            "_view_module_version": "1.2.0",
            "_view_name": "LayoutView",
            "align_content": null,
            "align_items": null,
            "align_self": null,
            "border": null,
            "bottom": null,
            "display": null,
            "flex": null,
            "flex_flow": null,
            "grid_area": null,
            "grid_auto_columns": null,
            "grid_auto_flow": null,
            "grid_auto_rows": null,
            "grid_column": null,
            "grid_gap": null,
            "grid_row": null,
            "grid_template_areas": null,
            "grid_template_columns": null,
            "grid_template_rows": null,
            "height": null,
            "justify_content": null,
            "justify_items": null,
            "left": null,
            "margin": null,
            "max_height": null,
            "max_width": null,
            "min_height": null,
            "min_width": null,
            "object_fit": null,
            "object_position": null,
            "order": null,
            "overflow": null,
            "overflow_x": null,
            "overflow_y": null,
            "padding": null,
            "right": null,
            "top": null,
            "visibility": null,
            "width": null
          }
        },
        "469b2de5854840c4bac8cb7468dac5bf": {
          "model_module": "@jupyter-widgets/controls",
          "model_name": "DescriptionStyleModel",
          "model_module_version": "1.5.0",
          "state": {
            "_model_module": "@jupyter-widgets/controls",
            "_model_module_version": "1.5.0",
            "_model_name": "DescriptionStyleModel",
            "_view_count": null,
            "_view_module": "@jupyter-widgets/base",
            "_view_module_version": "1.2.0",
            "_view_name": "StyleView",
            "description_width": ""
          }
        },
        "19e0bd4b160d495e9b3a7913db6a95c6": {
          "model_module": "@jupyter-widgets/base",
          "model_name": "LayoutModel",
          "model_module_version": "1.2.0",
          "state": {
            "_model_module": "@jupyter-widgets/base",
            "_model_module_version": "1.2.0",
            "_model_name": "LayoutModel",
            "_view_count": null,
            "_view_module": "@jupyter-widgets/base",
            "_view_module_version": "1.2.0",
            "_view_name": "LayoutView",
            "align_content": null,
            "align_items": null,
            "align_self": null,
            "border": null,
            "bottom": null,
            "display": null,
            "flex": null,
            "flex_flow": null,
            "grid_area": null,
            "grid_auto_columns": null,
            "grid_auto_flow": null,
            "grid_auto_rows": null,
            "grid_column": null,
            "grid_gap": null,
            "grid_row": null,
            "grid_template_areas": null,
            "grid_template_columns": null,
            "grid_template_rows": null,
            "height": null,
            "justify_content": null,
            "justify_items": null,
            "left": null,
            "margin": null,
            "max_height": null,
            "max_width": null,
            "min_height": null,
            "min_width": null,
            "object_fit": null,
            "object_position": null,
            "order": null,
            "overflow": null,
            "overflow_x": null,
            "overflow_y": null,
            "padding": null,
            "right": null,
            "top": null,
            "visibility": null,
            "width": null
          }
        }
      }
    }
  },
  "cells": [
    {
      "cell_type": "markdown",
      "metadata": {
        "id": "view-in-github",
        "colab_type": "text"
      },
      "source": [
        "<a href=\"https://colab.research.google.com/github/KOCORA/The-architecture-of-artificial-intelligence-systems./blob/master/Costumer_churn.ipynb\" target=\"_parent\"><img src=\"https://colab.research.google.com/assets/colab-badge.svg\" alt=\"Open In Colab\"/></a>"
      ]
    },
    {
      "cell_type": "markdown",
      "source": [
        "### **BUILDING A MACHINE LEARNING MODEL TO PREDICT CUSTOMER CHURN** \n",
        "\n",
        "### **ПОСТРОЕНИЕ МОДЕЛИ МАШИННОГО ОБУЧЕНИЯ ДЛЯ ПРОГНОЗИРОВАНИЯ ОТТОКА КЛИЕНТОВ (CUSTOMER CHURN)**\n",
        "\n",
        "### **CONSTRUCTION D'UN MODELE DE MACHINE LEARNING POUR PREDIRE LE DESABONNEMENT DES CLIENS D'UNE ENTREPRISE (CUSTOMER CHURN)**"
      ],
      "metadata": {
        "id": "hIiWKW-YBQqy"
      }
    },
    {
      "cell_type": "markdown",
      "source": [
        "Customer churn (This is customer churn in a business, supermarket or store.)\n",
        "\n",
        "Customer churn occurs when a customer decides to stop using a company's services, content or products. There are many examples and instances of churn:\n",
        "\n",
        "* Cancellation of a contracted or uncontracted service;\n",
        "* Purchase from another competing store;\n",
        "* Unsubscribing from a newsletter;\n",
        "* Closing a bank account;\n",
        "* Etc...\n",
        "\n",
        "In this business world where a company faces many competitors, the cost of acquiring new customers is very high. Therefore, the retention of existing customers is more important for companies. Therefore, the company must better understand the behavior of its customers in order to retain them. One way to do this is to create a Machine Learning or artificial neural network model that can predict which customers are likely to churn. This allows the company to better target and retain those specific customers who are at a higher risk of churn.\n",
        "\n",
        "In this project, we will explore a dataset from a telecommunications company and create a model to predict which customers are at higher risk of churn. We will use different Machine Learning algorithms to compare their performance and then choose the best model.\n",
        "\n",
        "*************\n",
        "\n",
        "Customer churn (Это отток клиентов в бизнесе, супермаркете или магазине).\n",
        "\n",
        "Отток клиентов происходит, когда клиент решает прекратить пользоваться услугами, контентом или продуктами компании. Существует множество примеров и случаев оттока:\n",
        "\n",
        "* Отказ от услуг по контракту или без него;\n",
        "* Покупка в магазине другого конкурента;\n",
        "* Отказ от подписки на рассылку новостей;\n",
        "* Закрытие банковского счета;\n",
        "* и т.д.\n",
        "\n",
        "В мире бизнеса, где компания сталкивается с множеством конкурентов, затраты на привлечение новых клиентов очень высоки. Поэтому удержание существующих клиентов становится более важным для компаний. Поэтому компании необходимо лучше понять поведение своих клиентов, чтобы удержать их. Один из способов сделать это - создать модель машинного обучения или искусственной нейронной сети, которая может предсказать, какие клиенты, скорее всего, будут отходить. Это позволит компании лучше ориентироваться и удерживать тех конкретных клиентов, которые подвержены повышенному риску оттока.\n",
        "\n",
        "В этом проекте мы изучим набор данных телекоммуникационной компании и создадим модель для прогнозирования того, какие клиенты подвержены повышенному риску оттока. Мы будем использовать различные алгоритмы машинного обучения, чтобы сравнить их производительность и затем выбрать лучшую модель."
      ],
      "metadata": {
        "id": "yPC4LYjPCi19"
      }
    },
    {
      "cell_type": "markdown",
      "source": [
        "## Importation des outils nécessaires"
      ],
      "metadata": {
        "id": "PRBuIIz9E_wU"
      }
    },
    {
      "cell_type": "code",
      "source": [
        "from ast import increment_lineno\n",
        "import pandas as pd\n",
        "import numpy as np\n",
        "import seaborn as sns\n",
        "import matplotlib.pyplot as plt\n",
        "%matplotlib inline\n",
        "import ipywidgets as widgets\n",
        "from ipywidgets import interact, interactive, fixed, interact_manual\n",
        "from sklearn.utils import resample\n",
        "from sklearn.preprocessing import MinMaxScaler\n",
        "from sklearn.model_selection import train_test_split, GridSearchCV\n",
        "from sklearn.linear_model import LogisticRegression\n",
        "from sklearn.ensemble import RandomForestClassifier\n",
        "from sklearn.svm import SVC\n",
        "from sklearn.metrics import classification_report\n",
        "from sklearn.feature_selection import RFE"
      ],
      "metadata": {
        "id": "iPqKp97mE-s1"
      },
      "execution_count": 10,
      "outputs": []
    },
    {
      "cell_type": "code",
      "source": [],
      "metadata": {
        "id": "Pj20mdNNF9j_"
      },
      "execution_count": 10,
      "outputs": []
    },
    {
      "cell_type": "markdown",
      "source": [
        "# Importation des données\n",
        "\n",
        "Nous allons télécharger les données sur Kaggle. "
      ],
      "metadata": {
        "id": "2Cga30P5H3yP"
      }
    },
    {
      "cell_type": "code",
      "source": [
        "#Importation des données.\n",
        "\n",
        "df = pd.read_csv('WA_Fn-UseC_-Telco-Customer-Churn.csv')\n",
        "df"
      ],
      "metadata": {
        "colab": {
          "base_uri": "https://localhost:8080/",
          "height": 661
        },
        "id": "nv8x417bHuOs",
        "outputId": "9803a846-6b38-4f8e-aa4c-7daf281b821c"
      },
      "execution_count": 11,
      "outputs": [
        {
          "output_type": "execute_result",
          "data": {
            "text/plain": [
              "      customerID  gender  SeniorCitizen Partner Dependents  tenure  \\\n",
              "0     7590-VHVEG  Female              0     Yes         No       1   \n",
              "1     5575-GNVDE    Male              0      No         No      34   \n",
              "2     3668-QPYBK    Male              0      No         No       2   \n",
              "3     7795-CFOCW    Male              0      No         No      45   \n",
              "4     9237-HQITU  Female              0      No         No       2   \n",
              "...          ...     ...            ...     ...        ...     ...   \n",
              "7038  6840-RESVB    Male              0     Yes        Yes      24   \n",
              "7039  2234-XADUH  Female              0     Yes        Yes      72   \n",
              "7040  4801-JZAZL  Female              0     Yes        Yes      11   \n",
              "7041  8361-LTMKD    Male              1     Yes         No       4   \n",
              "7042  3186-AJIEK    Male              0      No         No      66   \n",
              "\n",
              "     PhoneService     MultipleLines InternetService OnlineSecurity  ...  \\\n",
              "0              No  No phone service             DSL             No  ...   \n",
              "1             Yes                No             DSL            Yes  ...   \n",
              "2             Yes                No             DSL            Yes  ...   \n",
              "3              No  No phone service             DSL            Yes  ...   \n",
              "4             Yes                No     Fiber optic             No  ...   \n",
              "...           ...               ...             ...            ...  ...   \n",
              "7038          Yes               Yes             DSL            Yes  ...   \n",
              "7039          Yes               Yes     Fiber optic             No  ...   \n",
              "7040           No  No phone service             DSL            Yes  ...   \n",
              "7041          Yes               Yes     Fiber optic             No  ...   \n",
              "7042          Yes                No     Fiber optic            Yes  ...   \n",
              "\n",
              "     DeviceProtection TechSupport StreamingTV StreamingMovies        Contract  \\\n",
              "0                  No          No          No              No  Month-to-month   \n",
              "1                 Yes          No          No              No        One year   \n",
              "2                  No          No          No              No  Month-to-month   \n",
              "3                 Yes         Yes          No              No        One year   \n",
              "4                  No          No          No              No  Month-to-month   \n",
              "...               ...         ...         ...             ...             ...   \n",
              "7038              Yes         Yes         Yes             Yes        One year   \n",
              "7039              Yes          No         Yes             Yes        One year   \n",
              "7040               No          No          No              No  Month-to-month   \n",
              "7041               No          No          No              No  Month-to-month   \n",
              "7042              Yes         Yes         Yes             Yes        Two year   \n",
              "\n",
              "     PaperlessBilling              PaymentMethod MonthlyCharges  TotalCharges  \\\n",
              "0                 Yes           Electronic check          29.85         29.85   \n",
              "1                  No               Mailed check          56.95        1889.5   \n",
              "2                 Yes               Mailed check          53.85        108.15   \n",
              "3                  No  Bank transfer (automatic)          42.30       1840.75   \n",
              "4                 Yes           Electronic check          70.70        151.65   \n",
              "...               ...                        ...            ...           ...   \n",
              "7038              Yes               Mailed check          84.80        1990.5   \n",
              "7039              Yes    Credit card (automatic)         103.20        7362.9   \n",
              "7040              Yes           Electronic check          29.60        346.45   \n",
              "7041              Yes               Mailed check          74.40         306.6   \n",
              "7042              Yes  Bank transfer (automatic)         105.65        6844.5   \n",
              "\n",
              "     Churn  \n",
              "0       No  \n",
              "1       No  \n",
              "2      Yes  \n",
              "3       No  \n",
              "4      Yes  \n",
              "...    ...  \n",
              "7038    No  \n",
              "7039    No  \n",
              "7040    No  \n",
              "7041   Yes  \n",
              "7042    No  \n",
              "\n",
              "[7043 rows x 21 columns]"
            ],
            "text/html": [
              "\n",
              "  <div id=\"df-7b906da9-ee02-4b5c-bd90-aa9383592128\">\n",
              "    <div class=\"colab-df-container\">\n",
              "      <div>\n",
              "<style scoped>\n",
              "    .dataframe tbody tr th:only-of-type {\n",
              "        vertical-align: middle;\n",
              "    }\n",
              "\n",
              "    .dataframe tbody tr th {\n",
              "        vertical-align: top;\n",
              "    }\n",
              "\n",
              "    .dataframe thead th {\n",
              "        text-align: right;\n",
              "    }\n",
              "</style>\n",
              "<table border=\"1\" class=\"dataframe\">\n",
              "  <thead>\n",
              "    <tr style=\"text-align: right;\">\n",
              "      <th></th>\n",
              "      <th>customerID</th>\n",
              "      <th>gender</th>\n",
              "      <th>SeniorCitizen</th>\n",
              "      <th>Partner</th>\n",
              "      <th>Dependents</th>\n",
              "      <th>tenure</th>\n",
              "      <th>PhoneService</th>\n",
              "      <th>MultipleLines</th>\n",
              "      <th>InternetService</th>\n",
              "      <th>OnlineSecurity</th>\n",
              "      <th>...</th>\n",
              "      <th>DeviceProtection</th>\n",
              "      <th>TechSupport</th>\n",
              "      <th>StreamingTV</th>\n",
              "      <th>StreamingMovies</th>\n",
              "      <th>Contract</th>\n",
              "      <th>PaperlessBilling</th>\n",
              "      <th>PaymentMethod</th>\n",
              "      <th>MonthlyCharges</th>\n",
              "      <th>TotalCharges</th>\n",
              "      <th>Churn</th>\n",
              "    </tr>\n",
              "  </thead>\n",
              "  <tbody>\n",
              "    <tr>\n",
              "      <th>0</th>\n",
              "      <td>7590-VHVEG</td>\n",
              "      <td>Female</td>\n",
              "      <td>0</td>\n",
              "      <td>Yes</td>\n",
              "      <td>No</td>\n",
              "      <td>1</td>\n",
              "      <td>No</td>\n",
              "      <td>No phone service</td>\n",
              "      <td>DSL</td>\n",
              "      <td>No</td>\n",
              "      <td>...</td>\n",
              "      <td>No</td>\n",
              "      <td>No</td>\n",
              "      <td>No</td>\n",
              "      <td>No</td>\n",
              "      <td>Month-to-month</td>\n",
              "      <td>Yes</td>\n",
              "      <td>Electronic check</td>\n",
              "      <td>29.85</td>\n",
              "      <td>29.85</td>\n",
              "      <td>No</td>\n",
              "    </tr>\n",
              "    <tr>\n",
              "      <th>1</th>\n",
              "      <td>5575-GNVDE</td>\n",
              "      <td>Male</td>\n",
              "      <td>0</td>\n",
              "      <td>No</td>\n",
              "      <td>No</td>\n",
              "      <td>34</td>\n",
              "      <td>Yes</td>\n",
              "      <td>No</td>\n",
              "      <td>DSL</td>\n",
              "      <td>Yes</td>\n",
              "      <td>...</td>\n",
              "      <td>Yes</td>\n",
              "      <td>No</td>\n",
              "      <td>No</td>\n",
              "      <td>No</td>\n",
              "      <td>One year</td>\n",
              "      <td>No</td>\n",
              "      <td>Mailed check</td>\n",
              "      <td>56.95</td>\n",
              "      <td>1889.5</td>\n",
              "      <td>No</td>\n",
              "    </tr>\n",
              "    <tr>\n",
              "      <th>2</th>\n",
              "      <td>3668-QPYBK</td>\n",
              "      <td>Male</td>\n",
              "      <td>0</td>\n",
              "      <td>No</td>\n",
              "      <td>No</td>\n",
              "      <td>2</td>\n",
              "      <td>Yes</td>\n",
              "      <td>No</td>\n",
              "      <td>DSL</td>\n",
              "      <td>Yes</td>\n",
              "      <td>...</td>\n",
              "      <td>No</td>\n",
              "      <td>No</td>\n",
              "      <td>No</td>\n",
              "      <td>No</td>\n",
              "      <td>Month-to-month</td>\n",
              "      <td>Yes</td>\n",
              "      <td>Mailed check</td>\n",
              "      <td>53.85</td>\n",
              "      <td>108.15</td>\n",
              "      <td>Yes</td>\n",
              "    </tr>\n",
              "    <tr>\n",
              "      <th>3</th>\n",
              "      <td>7795-CFOCW</td>\n",
              "      <td>Male</td>\n",
              "      <td>0</td>\n",
              "      <td>No</td>\n",
              "      <td>No</td>\n",
              "      <td>45</td>\n",
              "      <td>No</td>\n",
              "      <td>No phone service</td>\n",
              "      <td>DSL</td>\n",
              "      <td>Yes</td>\n",
              "      <td>...</td>\n",
              "      <td>Yes</td>\n",
              "      <td>Yes</td>\n",
              "      <td>No</td>\n",
              "      <td>No</td>\n",
              "      <td>One year</td>\n",
              "      <td>No</td>\n",
              "      <td>Bank transfer (automatic)</td>\n",
              "      <td>42.30</td>\n",
              "      <td>1840.75</td>\n",
              "      <td>No</td>\n",
              "    </tr>\n",
              "    <tr>\n",
              "      <th>4</th>\n",
              "      <td>9237-HQITU</td>\n",
              "      <td>Female</td>\n",
              "      <td>0</td>\n",
              "      <td>No</td>\n",
              "      <td>No</td>\n",
              "      <td>2</td>\n",
              "      <td>Yes</td>\n",
              "      <td>No</td>\n",
              "      <td>Fiber optic</td>\n",
              "      <td>No</td>\n",
              "      <td>...</td>\n",
              "      <td>No</td>\n",
              "      <td>No</td>\n",
              "      <td>No</td>\n",
              "      <td>No</td>\n",
              "      <td>Month-to-month</td>\n",
              "      <td>Yes</td>\n",
              "      <td>Electronic check</td>\n",
              "      <td>70.70</td>\n",
              "      <td>151.65</td>\n",
              "      <td>Yes</td>\n",
              "    </tr>\n",
              "    <tr>\n",
              "      <th>...</th>\n",
              "      <td>...</td>\n",
              "      <td>...</td>\n",
              "      <td>...</td>\n",
              "      <td>...</td>\n",
              "      <td>...</td>\n",
              "      <td>...</td>\n",
              "      <td>...</td>\n",
              "      <td>...</td>\n",
              "      <td>...</td>\n",
              "      <td>...</td>\n",
              "      <td>...</td>\n",
              "      <td>...</td>\n",
              "      <td>...</td>\n",
              "      <td>...</td>\n",
              "      <td>...</td>\n",
              "      <td>...</td>\n",
              "      <td>...</td>\n",
              "      <td>...</td>\n",
              "      <td>...</td>\n",
              "      <td>...</td>\n",
              "      <td>...</td>\n",
              "    </tr>\n",
              "    <tr>\n",
              "      <th>7038</th>\n",
              "      <td>6840-RESVB</td>\n",
              "      <td>Male</td>\n",
              "      <td>0</td>\n",
              "      <td>Yes</td>\n",
              "      <td>Yes</td>\n",
              "      <td>24</td>\n",
              "      <td>Yes</td>\n",
              "      <td>Yes</td>\n",
              "      <td>DSL</td>\n",
              "      <td>Yes</td>\n",
              "      <td>...</td>\n",
              "      <td>Yes</td>\n",
              "      <td>Yes</td>\n",
              "      <td>Yes</td>\n",
              "      <td>Yes</td>\n",
              "      <td>One year</td>\n",
              "      <td>Yes</td>\n",
              "      <td>Mailed check</td>\n",
              "      <td>84.80</td>\n",
              "      <td>1990.5</td>\n",
              "      <td>No</td>\n",
              "    </tr>\n",
              "    <tr>\n",
              "      <th>7039</th>\n",
              "      <td>2234-XADUH</td>\n",
              "      <td>Female</td>\n",
              "      <td>0</td>\n",
              "      <td>Yes</td>\n",
              "      <td>Yes</td>\n",
              "      <td>72</td>\n",
              "      <td>Yes</td>\n",
              "      <td>Yes</td>\n",
              "      <td>Fiber optic</td>\n",
              "      <td>No</td>\n",
              "      <td>...</td>\n",
              "      <td>Yes</td>\n",
              "      <td>No</td>\n",
              "      <td>Yes</td>\n",
              "      <td>Yes</td>\n",
              "      <td>One year</td>\n",
              "      <td>Yes</td>\n",
              "      <td>Credit card (automatic)</td>\n",
              "      <td>103.20</td>\n",
              "      <td>7362.9</td>\n",
              "      <td>No</td>\n",
              "    </tr>\n",
              "    <tr>\n",
              "      <th>7040</th>\n",
              "      <td>4801-JZAZL</td>\n",
              "      <td>Female</td>\n",
              "      <td>0</td>\n",
              "      <td>Yes</td>\n",
              "      <td>Yes</td>\n",
              "      <td>11</td>\n",
              "      <td>No</td>\n",
              "      <td>No phone service</td>\n",
              "      <td>DSL</td>\n",
              "      <td>Yes</td>\n",
              "      <td>...</td>\n",
              "      <td>No</td>\n",
              "      <td>No</td>\n",
              "      <td>No</td>\n",
              "      <td>No</td>\n",
              "      <td>Month-to-month</td>\n",
              "      <td>Yes</td>\n",
              "      <td>Electronic check</td>\n",
              "      <td>29.60</td>\n",
              "      <td>346.45</td>\n",
              "      <td>No</td>\n",
              "    </tr>\n",
              "    <tr>\n",
              "      <th>7041</th>\n",
              "      <td>8361-LTMKD</td>\n",
              "      <td>Male</td>\n",
              "      <td>1</td>\n",
              "      <td>Yes</td>\n",
              "      <td>No</td>\n",
              "      <td>4</td>\n",
              "      <td>Yes</td>\n",
              "      <td>Yes</td>\n",
              "      <td>Fiber optic</td>\n",
              "      <td>No</td>\n",
              "      <td>...</td>\n",
              "      <td>No</td>\n",
              "      <td>No</td>\n",
              "      <td>No</td>\n",
              "      <td>No</td>\n",
              "      <td>Month-to-month</td>\n",
              "      <td>Yes</td>\n",
              "      <td>Mailed check</td>\n",
              "      <td>74.40</td>\n",
              "      <td>306.6</td>\n",
              "      <td>Yes</td>\n",
              "    </tr>\n",
              "    <tr>\n",
              "      <th>7042</th>\n",
              "      <td>3186-AJIEK</td>\n",
              "      <td>Male</td>\n",
              "      <td>0</td>\n",
              "      <td>No</td>\n",
              "      <td>No</td>\n",
              "      <td>66</td>\n",
              "      <td>Yes</td>\n",
              "      <td>No</td>\n",
              "      <td>Fiber optic</td>\n",
              "      <td>Yes</td>\n",
              "      <td>...</td>\n",
              "      <td>Yes</td>\n",
              "      <td>Yes</td>\n",
              "      <td>Yes</td>\n",
              "      <td>Yes</td>\n",
              "      <td>Two year</td>\n",
              "      <td>Yes</td>\n",
              "      <td>Bank transfer (automatic)</td>\n",
              "      <td>105.65</td>\n",
              "      <td>6844.5</td>\n",
              "      <td>No</td>\n",
              "    </tr>\n",
              "  </tbody>\n",
              "</table>\n",
              "<p>7043 rows × 21 columns</p>\n",
              "</div>\n",
              "      <button class=\"colab-df-convert\" onclick=\"convertToInteractive('df-7b906da9-ee02-4b5c-bd90-aa9383592128')\"\n",
              "              title=\"Convert this dataframe to an interactive table.\"\n",
              "              style=\"display:none;\">\n",
              "        \n",
              "  <svg xmlns=\"http://www.w3.org/2000/svg\" height=\"24px\"viewBox=\"0 0 24 24\"\n",
              "       width=\"24px\">\n",
              "    <path d=\"M0 0h24v24H0V0z\" fill=\"none\"/>\n",
              "    <path d=\"M18.56 5.44l.94 2.06.94-2.06 2.06-.94-2.06-.94-.94-2.06-.94 2.06-2.06.94zm-11 1L8.5 8.5l.94-2.06 2.06-.94-2.06-.94L8.5 2.5l-.94 2.06-2.06.94zm10 10l.94 2.06.94-2.06 2.06-.94-2.06-.94-.94-2.06-.94 2.06-2.06.94z\"/><path d=\"M17.41 7.96l-1.37-1.37c-.4-.4-.92-.59-1.43-.59-.52 0-1.04.2-1.43.59L10.3 9.45l-7.72 7.72c-.78.78-.78 2.05 0 2.83L4 21.41c.39.39.9.59 1.41.59.51 0 1.02-.2 1.41-.59l7.78-7.78 2.81-2.81c.8-.78.8-2.07 0-2.86zM5.41 20L4 18.59l7.72-7.72 1.47 1.35L5.41 20z\"/>\n",
              "  </svg>\n",
              "      </button>\n",
              "      \n",
              "  <style>\n",
              "    .colab-df-container {\n",
              "      display:flex;\n",
              "      flex-wrap:wrap;\n",
              "      gap: 12px;\n",
              "    }\n",
              "\n",
              "    .colab-df-convert {\n",
              "      background-color: #E8F0FE;\n",
              "      border: none;\n",
              "      border-radius: 50%;\n",
              "      cursor: pointer;\n",
              "      display: none;\n",
              "      fill: #1967D2;\n",
              "      height: 32px;\n",
              "      padding: 0 0 0 0;\n",
              "      width: 32px;\n",
              "    }\n",
              "\n",
              "    .colab-df-convert:hover {\n",
              "      background-color: #E2EBFA;\n",
              "      box-shadow: 0px 1px 2px rgba(60, 64, 67, 0.3), 0px 1px 3px 1px rgba(60, 64, 67, 0.15);\n",
              "      fill: #174EA6;\n",
              "    }\n",
              "\n",
              "    [theme=dark] .colab-df-convert {\n",
              "      background-color: #3B4455;\n",
              "      fill: #D2E3FC;\n",
              "    }\n",
              "\n",
              "    [theme=dark] .colab-df-convert:hover {\n",
              "      background-color: #434B5C;\n",
              "      box-shadow: 0px 1px 3px 1px rgba(0, 0, 0, 0.15);\n",
              "      filter: drop-shadow(0px 1px 2px rgba(0, 0, 0, 0.3));\n",
              "      fill: #FFFFFF;\n",
              "    }\n",
              "  </style>\n",
              "\n",
              "      <script>\n",
              "        const buttonEl =\n",
              "          document.querySelector('#df-7b906da9-ee02-4b5c-bd90-aa9383592128 button.colab-df-convert');\n",
              "        buttonEl.style.display =\n",
              "          google.colab.kernel.accessAllowed ? 'block' : 'none';\n",
              "\n",
              "        async function convertToInteractive(key) {\n",
              "          const element = document.querySelector('#df-7b906da9-ee02-4b5c-bd90-aa9383592128');\n",
              "          const dataTable =\n",
              "            await google.colab.kernel.invokeFunction('convertToInteractive',\n",
              "                                                     [key], {});\n",
              "          if (!dataTable) return;\n",
              "\n",
              "          const docLinkHtml = 'Like what you see? Visit the ' +\n",
              "            '<a target=\"_blank\" href=https://colab.research.google.com/notebooks/data_table.ipynb>data table notebook</a>'\n",
              "            + ' to learn more about interactive tables.';\n",
              "          element.innerHTML = '';\n",
              "          dataTable['output_type'] = 'display_data';\n",
              "          await google.colab.output.renderOutput(dataTable, element);\n",
              "          const docLink = document.createElement('div');\n",
              "          docLink.innerHTML = docLinkHtml;\n",
              "          element.appendChild(docLink);\n",
              "        }\n",
              "      </script>\n",
              "    </div>\n",
              "  </div>\n",
              "  "
            ]
          },
          "metadata": {},
          "execution_count": 11
        }
      ]
    },
    {
      "cell_type": "markdown",
      "source": [
        "Description des variables\n",
        "\n",
        "*   **CustomerID** : L'identifiant unique de chaque client dans la base de données.\n",
        "*   **Gender** : Le genre du client (masculin ou féminin).\n",
        "*   **SeniorCitizen** : Indique si le client est un citoyen senior ou non.\n",
        "*   **Partner** : Indique si le client a un partenaire ou non.\n",
        "*   **Dependents** : Indique si le client a des personnes à charge ou non.\n",
        "*   **Tenure** : Le nombre de mois pendant lesquels le client a été abonné à la compagnie de télécommunications.\n",
        "*   **PhoneService** : Indique si le client a un service de téléphone ou non.\n",
        "*   **MultipleLines** : Indique si le client a plusieurs lignes téléphoniques ou non.\n",
        "*   **InternetService** : Indique le type de service Internet que le client utilise (DSL, fibre optique, aucun service).\n",
        "*   **OnlineSecurity** : Indique si le client a un service de sécurité en ligne ou non.\n",
        "*   **OnlineBackup** : Indique si le client a un service de sauvegarde en ligne ou non.\n",
        "*   **DeviceProtection** : Indique si le client a un service de protection de l'appareil ou non.\n",
        "*   **TechSupport** : Indique si le client a un service de support technique ou non.\n",
        "*   **StreamingTV** : Indique si le client a un service de télévision en streaming ou non.\n",
        "*   **StreamingMovies** : Indique si le client a un service de films en streaming ou non.\n",
        "*   **Contract** : Indique le type de contrat que le client a avec la compagnie de télécommunications (mensuel, annuel, deux ans).\n",
        "*   **PaperlessBilling** : Indique si le client utilise une facturation sans papier ou non.\n",
        "*   **PaymentMethod** : Indique le mode de paiement que le client utilise (virement bancaire, carte de crédit, chèque électronique, paiement automatique).\n",
        "*  **MonthlyCharges**: Le montant mensuel que le client doit payer pour les services de télécommunication.\n",
        "*   **TotalCharges**: Le montant total que le client a payé pour les services de télécommunication depuis son inscription. \n",
        "*   **Churn** : Indique si le client s'est désabonné ou non de la compagnie de télécommunications.\n",
        "\n",
        "Notons que la variable cible est la variable **Churn** qui prends deux valeurs : Yes (le client s’est désabonné) et No (le client ne s’est pas désabonné). "
      ],
      "metadata": {
        "id": "IWE664C-Jue_"
      }
    },
    {
      "cell_type": "code",
      "source": [
        "#Information sur l'ensemble des données\n",
        "\n",
        "df.info()"
      ],
      "metadata": {
        "colab": {
          "base_uri": "https://localhost:8080/"
        },
        "id": "RJS-BL3gHuRF",
        "outputId": "1094ebbc-16f4-47d4-be06-74487ace6a6d"
      },
      "execution_count": 12,
      "outputs": [
        {
          "output_type": "stream",
          "name": "stdout",
          "text": [
            "<class 'pandas.core.frame.DataFrame'>\n",
            "RangeIndex: 7043 entries, 0 to 7042\n",
            "Data columns (total 21 columns):\n",
            " #   Column            Non-Null Count  Dtype  \n",
            "---  ------            --------------  -----  \n",
            " 0   customerID        7043 non-null   object \n",
            " 1   gender            7043 non-null   object \n",
            " 2   SeniorCitizen     7043 non-null   int64  \n",
            " 3   Partner           7043 non-null   object \n",
            " 4   Dependents        7043 non-null   object \n",
            " 5   tenure            7043 non-null   int64  \n",
            " 6   PhoneService      7043 non-null   object \n",
            " 7   MultipleLines     7043 non-null   object \n",
            " 8   InternetService   7043 non-null   object \n",
            " 9   OnlineSecurity    7043 non-null   object \n",
            " 10  OnlineBackup      7043 non-null   object \n",
            " 11  DeviceProtection  7043 non-null   object \n",
            " 12  TechSupport       7043 non-null   object \n",
            " 13  StreamingTV       7043 non-null   object \n",
            " 14  StreamingMovies   7043 non-null   object \n",
            " 15  Contract          7043 non-null   object \n",
            " 16  PaperlessBilling  7043 non-null   object \n",
            " 17  PaymentMethod     7043 non-null   object \n",
            " 18  MonthlyCharges    7043 non-null   float64\n",
            " 19  TotalCharges      7043 non-null   object \n",
            " 20  Churn             7043 non-null   object \n",
            "dtypes: float64(1), int64(2), object(18)\n",
            "memory usage: 1.1+ MB\n"
          ]
        }
      ]
    },
    {
      "cell_type": "markdown",
      "source": [
        "Apparemment, il n'y a pas de valeurs manquantes. Mais les valeurs manquantes peuvent être cachées. L'analyse exploratoire des données nous donnera beaucoup plus d'informations sur les données."
      ],
      "metadata": {
        "id": "Nv-XOqe-Q7fJ"
      }
    },
    {
      "cell_type": "code",
      "source": [
        "#nombre de valeurs uniques par colonne\n",
        "\n",
        "df.nunique()"
      ],
      "metadata": {
        "colab": {
          "base_uri": "https://localhost:8080/"
        },
        "id": "1xjlkcnQQi9f",
        "outputId": "1dd48c67-5e5f-4c91-9aaa-a02747973d09"
      },
      "execution_count": 13,
      "outputs": [
        {
          "output_type": "execute_result",
          "data": {
            "text/plain": [
              "customerID          7043\n",
              "gender                 2\n",
              "SeniorCitizen          2\n",
              "Partner                2\n",
              "Dependents             2\n",
              "tenure                73\n",
              "PhoneService           2\n",
              "MultipleLines          3\n",
              "InternetService        3\n",
              "OnlineSecurity         3\n",
              "OnlineBackup           3\n",
              "DeviceProtection       3\n",
              "TechSupport            3\n",
              "StreamingTV            3\n",
              "StreamingMovies        3\n",
              "Contract               3\n",
              "PaperlessBilling       2\n",
              "PaymentMethod          4\n",
              "MonthlyCharges      1585\n",
              "TotalCharges        6531\n",
              "Churn                  2\n",
              "dtype: int64"
            ]
          },
          "metadata": {},
          "execution_count": 13
        }
      ]
    },
    {
      "cell_type": "markdown",
      "source": [
        "Etant donné que la variable customerID (identifiant du client) a 7043 valeurs distinctes et que la dataframe contient au total 7043 lignes, alors nous sommes convaincus que chaque ligne de l'ensemble des données répresente un unique client.\n",
        "\n",
        "Effectuons une analyse exploratoire des données afin de mieux les comprendre."
      ],
      "metadata": {
        "id": "mNlWhZlvRxiA"
      }
    },
    {
      "cell_type": "markdown",
      "source": [
        "# Analyse exploratoire des données"
      ],
      "metadata": {
        "id": "npSCwWvpSZ85"
      }
    },
    {
      "cell_type": "markdown",
      "source": [
        "Commençons notre exploratoire des données en traçant un graphique de visualisation de la distribution de chaque variable."
      ],
      "metadata": {
        "id": "EdRmh83ATYlu"
      }
    },
    {
      "cell_type": "code",
      "source": [
        "from pandas.core.arrays import categorical\n",
        "# variables catégoricielles\n",
        " \n",
        "categorical_columns = df.nunique()[df.nunique() < 5].keys().to_list()\n",
        "\n",
        "categorical_columns   #Il repertories les variables categoricielles qui ont plus de 5 valeurs uniques"
      ],
      "metadata": {
        "colab": {
          "base_uri": "https://localhost:8080/"
        },
        "id": "LhPQxNCqQjBM",
        "outputId": "1a4d0df0-efda-454f-fd6f-08d26825defb"
      },
      "execution_count": 14,
      "outputs": [
        {
          "output_type": "execute_result",
          "data": {
            "text/plain": [
              "['gender',\n",
              " 'SeniorCitizen',\n",
              " 'Partner',\n",
              " 'Dependents',\n",
              " 'PhoneService',\n",
              " 'MultipleLines',\n",
              " 'InternetService',\n",
              " 'OnlineSecurity',\n",
              " 'OnlineBackup',\n",
              " 'DeviceProtection',\n",
              " 'TechSupport',\n",
              " 'StreamingTV',\n",
              " 'StreamingMovies',\n",
              " 'Contract',\n",
              " 'PaperlessBilling',\n",
              " 'PaymentMethod',\n",
              " 'Churn']"
            ]
          },
          "metadata": {},
          "execution_count": 14
        }
      ]
    },
    {
      "cell_type": "code",
      "source": [
        "# Création d'une fonction de construction de graphiques à barres et de manière interactive.\n",
        "\n",
        "def bar_plot(a):\n",
        "  df[a].value_counts(normalize = True).plot(kind = 'bar')\n",
        "  plt.ylabel('proportion')\n",
        "  plt.title('Distribution of ' + str(a))\n",
        "  return plt.show"
      ],
      "metadata": {
        "id": "T_iSo4ofZ26v"
      },
      "execution_count": 15,
      "outputs": []
    },
    {
      "cell_type": "code",
      "source": [
        "# Interact\n",
        "\n",
        "interact(bar_plot, a = categorical_columns);"
      ],
      "metadata": {
        "colab": {
          "base_uri": "https://localhost:8080/",
          "height": 537,
          "referenced_widgets": [
            "506865416e0c4380a7120a9cadba433c",
            "24c30f5ed8e042839af711752b5b6046",
            "4e2ba7403c614d939bdf6ee7a88a0287",
            "3b8d48eb86c34fc1a122a5e2615e17cf",
            "1b790f39b6d94d3aa1e7322bc51e3e11",
            "fd9231a789c9422d88bced30d725847a",
            "3761b88f0d5f4329bb214e79dc8da5c6"
          ]
        },
        "id": "zUJTjCJLbkwn",
        "outputId": "ac794d43-0e35-4120-c4af-bc6f6df248f5"
      },
      "execution_count": 16,
      "outputs": [
        {
          "output_type": "display_data",
          "data": {
            "text/plain": [
              "interactive(children=(Dropdown(description='a', options=('gender', 'SeniorCitizen', 'Partner', 'Dependents', '…"
            ],
            "application/vnd.jupyter.widget-view+json": {
              "version_major": 2,
              "version_minor": 0,
              "model_id": "506865416e0c4380a7120a9cadba433c"
            }
          },
          "metadata": {}
        },
        {
          "output_type": "display_data",
          "data": {
            "text/plain": [
              "<Figure size 640x480 with 1 Axes>"
            ],
            "image/png": "[encoded data removed]"
          },
          "metadata": {}
        }
      ]
    },
    {
      "cell_type": "markdown",
      "source": [
        "Voici quelques informations importantes qu'on peut tirer des graphiques ci-dessus:\n",
        "\n",
        "*   Il y a plus de clients qui se sont désabonnés (plus de 70%) que de clients qui se sont désabonné (moins de 30%). Donc nous avons un problème de déséquilibre qu'il faudra absolument résoudre car cela peut impacter négativement la performance des modèles de classification que nous allons construire."
      ],
      "metadata": {
        "id": "OOR6AjrNVpTY"
      }
    },
    {
      "cell_type": "code",
      "source": [
        "# Echantillonnement aléatoire de la variable 'TotalCharges'\n",
        "\n",
        "df['TotalCharges'].sample(15)"
      ],
      "metadata": {
        "colab": {
          "base_uri": "https://localhost:8080/"
        },
        "id": "nMChjvR0dfpA",
        "outputId": "0c02b2a9-8f0b-4132-c6de-a80c4bf33324"
      },
      "execution_count": 17,
      "outputs": [
        {
          "output_type": "execute_result",
          "data": {
            "text/plain": [
              "6712     2289.9\n",
              "1009      485.2\n",
              "362     2878.55\n",
              "5421      741.5\n",
              "5520    4589.85\n",
              "1855     936.85\n",
              "853      352.65\n",
              "4356         56\n",
              "1753     6827.5\n",
              "6829        125\n",
              "5974      218.5\n",
              "5141      86.05\n",
              "5604       1207\n",
              "2383     565.75\n",
              "6412    7679.65\n",
              "Name: TotalCharges, dtype: object"
            ]
          },
          "metadata": {},
          "execution_count": 17
        }
      ]
    },
    {
      "cell_type": "markdown",
      "source": [
        "Apparemment c'est à cause de la présence d'espce ua niveay de la variable ***TotalCharges*** que Pandas la considère comme une variables avec des valeurs de type *object* (chaîne de caractère).\n",
        "Pour resoudre ce problème, nous allons remplacer ces espaces par des NaN et transformer le type de ses valeurs en *float*"
      ],
      "metadata": {
        "id": "b5VeKTEdfoJ7"
      }
    },
    {
      "cell_type": "code",
      "source": [
        "# Variables quantitatives\n",
        "\n",
        "numerical_columns = ['tenure', 'MonthlyCharges', 'TotalCharges']\n",
        "\n",
        "# Création d'une fonction de construction d'histogrammes et de manière interactive\n",
        "\n",
        "def hist_plot(b):\n",
        "  sns.distplot(df[b], kde=False)\n",
        "  plt.title('Histogram of '+str(b))\n",
        "  return plt.show()\n",
        "\n",
        "# Conversion du type des valeurs de la variable 'TotalCharges' en float\n",
        "\n",
        "df['TotalCharges'] = df['TotalCharges'].replace(' ', np.nan).astype(float)\n"
      ],
      "metadata": {
        "id": "xGQCx_kbgVr_"
      },
      "execution_count": 18,
      "outputs": []
    },
    {
      "cell_type": "code",
      "source": [
        "# Interact\n",
        "interact(hist_plot, b = numerical_columns);"
      ],
      "metadata": {
        "colab": {
          "base_uri": "https://localhost:8080/",
          "height": 695,
          "referenced_widgets": [
            "c83731e350de42ad994e473734731cd0",
            "92b635ec8c9a420e980d5710bf29bda4",
            "2ded2aba143347f49f3a785095506d6a",
            "6ccbe1acc77a40688d2fd0809c805bbb",
            "2da7728db80d49d99c84fec062ca98b7",
            "534f429c211d40e6a7f2aa0eb98856e3",
            "8de0cecdb8ae45e0922d340e27ae58bf"
          ]
        },
        "id": "B44HeaIvgWHZ",
        "outputId": "06c031d7-eb38-49ae-ac3f-8e5b26142fb0"
      },
      "execution_count": 19,
      "outputs": [
        {
          "output_type": "display_data",
          "data": {
            "text/plain": [
              "interactive(children=(Dropdown(description='b', options=('tenure', 'MonthlyCharges', 'TotalCharges'), value='t…"
            ],
            "application/vnd.jupyter.widget-view+json": {
              "version_major": 2,
              "version_minor": 0,
              "model_id": "c83731e350de42ad994e473734731cd0"
            }
          },
          "metadata": {}
        }
      ]
    },
    {
      "cell_type": "code",
      "source": [
        "# Coefficient d'asymétrie de la variable 'TotalCharges'\n",
        "\n",
        "df['TotalCharges'].skew()"
      ],
      "metadata": {
        "colab": {
          "base_uri": "https://localhost:8080/"
        },
        "id": "WS0yD1CeiRUy",
        "outputId": "5ac821ea-9c0b-47b1-eca3-6aaee421bfa0"
      },
      "execution_count": 20,
      "outputs": [
        {
          "output_type": "execute_result",
          "data": {
            "text/plain": [
              "0.961642499724251"
            ]
          },
          "metadata": {},
          "execution_count": 20
        }
      ]
    },
    {
      "cell_type": "code",
      "source": [
        "# Creation d'une fonction de construction de boîtes à moustaches et de manière interactive\n",
        "def box_plot(b):\n",
        "  sns.boxplot(y = df[b])\n",
        "  plt.title('Boxplot of ' + str(b))\n",
        "  return plt.show()\n",
        "\n",
        "# Interact\n",
        "\n",
        "interact(box_plot, b = numerical_columns);"
      ],
      "metadata": {
        "colab": {
          "base_uri": "https://localhost:8080/",
          "height": 465,
          "referenced_widgets": [
            "0506a74abcd7448fa451f8dc9419d3b8",
            "0b765386b53d4381a26ead3363b003ef",
            "442c8ec5aa8e4c48bf911b04db98bb4e",
            "e3df235287724b5a98c81923a0083d9b",
            "ab80781b56a34e63a1075713a5939c57",
            "469b2de5854840c4bac8cb7468dac5bf",
            "19e0bd4b160d495e9b3a7913db6a95c6"
          ]
        },
        "id": "7nE5V_LiiQ_h",
        "outputId": "1b13aa1b-238b-41c6-eb2c-679a9201d1f1"
      },
      "execution_count": 21,
      "outputs": [
        {
          "output_type": "display_data",
          "data": {
            "text/plain": [
              "interactive(children=(Dropdown(description='b', options=('tenure', 'MonthlyCharges', 'TotalCharges'), value='t…"
            ],
            "application/vnd.jupyter.widget-view+json": {
              "version_major": 2,
              "version_minor": 0,
              "model_id": "0506a74abcd7448fa451f8dc9419d3b8"
            }
          },
          "metadata": {}
        }
      ]
    },
    {
      "cell_type": "markdown",
      "source": [
        "Nous pouvons conclure qu'il n'y a pas de valeurs abérrantes (outliers). Mais ces valeurs asymétriques peuvent causer des erreurs au niveau des modèles que nous allons construire. Pour cela, nous allons appliquer des fonctions de transformation à ces variables afin de les rendre moins asymétrique.\n",
        "\n",
        "Analyse bivariées"
      ],
      "metadata": {
        "id": "cjx3skFCl504"
      }
    },
    {
      "cell_type": "code",
      "source": [
        "# TotalCharges vs Churn\n",
        "\n",
        "sns.boxplot(x='Churn', y='TotalCharges', data=df)\n",
        "plt.xlabel('Désabonnement')\n",
        "plt.ylabel('Facture totale')\n",
        "plt.title('Montant total facturé au client')\n",
        "plt.show()"
      ],
      "metadata": {
        "colab": {
          "base_uri": "https://localhost:8080/",
          "height": 472
        },
        "id": "malWVtetmc43",
        "outputId": "a20ccd94-6bca-445c-b275-8049c0e6dd38"
      },
      "execution_count": 22,
      "outputs": [
        {
          "output_type": "display_data",
          "data": {
            "text/plain": [
              "<Figure size 640x480 with 1 Axes>"
            ],
            "image/png": "[encoded data removed]"
          },
          "metadata": {}
        }
      ]
    },
    {
      "cell_type": "code",
      "source": [
        "# MonthlyCharges vs Churn\n",
        "sns.boxplot(x='Churn', y='MonthlyCharges', data=df)\n",
        "plt.xlabel('Désabonnement')\n",
        "plt.ylabel('Facture mensuelle')\n",
        "plt.title('Montant facturé mensuellement au client')\n",
        "plt.show()"
      ],
      "metadata": {
        "colab": {
          "base_uri": "https://localhost:8080/",
          "height": 472
        },
        "id": "ip0hLX-5mdat",
        "outputId": "43da9923-d98f-4bd0-fd38-8339344b671f"
      },
      "execution_count": 23,
      "outputs": [
        {
          "output_type": "display_data",
          "data": {
            "text/plain": [
              "<Figure size 640x480 with 1 Axes>"
            ],
            "image/png": "[encoded data removed]"
          },
          "metadata": {}
        }
      ]
    },
    {
      "cell_type": "markdown",
      "source": [
        "Le montant total facturé aux clients qui ont résilié leur contrat est inférieur au montant total facturé aux clients qui ne l'ont pas fait. Mais les clients qui se sont désabonnés sont plus facturés mensuellement que les clients qui se sont désabonnées. Cette information est très importante pour l'entreprise car le montant facturé mensuellement peut-être un facteur important qui détermine si un client va se désabonner ou non"
      ],
      "metadata": {
        "id": "T8BwBToFmzaq"
      }
    },
    {
      "cell_type": "code",
      "source": [
        "# Tenure vs Churn\n",
        "\n",
        "sns.boxplot(x='Churn', y='tenure', data=df)\n",
        "plt.xlabel('Désabonnement') \n",
        "plt.title(\"Nombre de mois pendant lesquels le client est resté dans l'entreprise\")\n",
        "plt.show()"
      ],
      "metadata": {
        "colab": {
          "base_uri": "https://localhost:8080/",
          "height": 472
        },
        "id": "uEi7hvDemd0l",
        "outputId": "abbb4bf9-1f0f-4300-9533-5bccce61ad88"
      },
      "execution_count": 24,
      "outputs": [
        {
          "output_type": "display_data",
          "data": {
            "text/plain": [
              "<Figure size 640x480 with 1 Axes>"
            ],
            "image/png": "[encoded data removed]"
          },
          "metadata": {}
        }
      ]
    },
    {
      "cell_type": "code",
      "source": [
        "# MonthlyCharges vs Churn by SeniorCitizen\n",
        "\n",
        "sns.boxplot(x ='Churn', y ='MonthlyCharges', data=df, hue = 'SeniorCitizen');"
      ],
      "metadata": {
        "colab": {
          "base_uri": "https://localhost:8080/",
          "height": 449
        },
        "id": "PenEvXDeplo9",
        "outputId": "251134b9-f616-463f-8248-1bdf09963b01"
      },
      "execution_count": 25,
      "outputs": [
        {
          "output_type": "display_data",
          "data": {
            "text/plain": [
              "<Figure size 640x480 with 1 Axes>"
            ],
            "image/png": "[encoded data removed]"
          },
          "metadata": {}
        }
      ]
    },
    {
      "cell_type": "markdown",
      "source": [
        "Il semble que les personnew âgées soient beaucoup plus facturées mensuellement que les jeunes. Malgrés cela, il restent plus fidèles à l'entreprise que les jeunes."
      ],
      "metadata": {
        "id": "kLfDjUd_p7-X"
      }
    },
    {
      "cell_type": "code",
      "source": [
        "# Résumé statistique\n",
        "\n",
        "df.describe()"
      ],
      "metadata": {
        "colab": {
          "base_uri": "https://localhost:8080/",
          "height": 300
        },
        "id": "0w-PGnsCplXB",
        "outputId": "024cbb59-f8bf-48f5-f6bd-6314a1a51b30"
      },
      "execution_count": 26,
      "outputs": [
        {
          "output_type": "execute_result",
          "data": {
            "text/plain": [
              "       SeniorCitizen       tenure  MonthlyCharges  TotalCharges\n",
              "count    7043.000000  7043.000000     7043.000000   7032.000000\n",
              "mean        0.162147    32.371149       64.761692   2283.300441\n",
              "std         0.368612    24.559481       30.090047   2266.771362\n",
              "min         0.000000     0.000000       18.250000     18.800000\n",
              "25%         0.000000     9.000000       35.500000    401.450000\n",
              "50%         0.000000    29.000000       70.350000   1397.475000\n",
              "75%         0.000000    55.000000       89.850000   3794.737500\n",
              "max         1.000000    72.000000      118.750000   8684.800000"
            ],
            "text/html": [
              "\n",
              "  <div id=\"df-308f3b12-bc29-42ba-98f7-f5761b28616c\">\n",
              "    <div class=\"colab-df-container\">\n",
              "      <div>\n",
              "<style scoped>\n",
              "    .dataframe tbody tr th:only-of-type {\n",
              "        vertical-align: middle;\n",
              "    }\n",
              "\n",
              "    .dataframe tbody tr th {\n",
              "        vertical-align: top;\n",
              "    }\n",
              "\n",
              "    .dataframe thead th {\n",
              "        text-align: right;\n",
              "    }\n",
              "</style>\n",
              "<table border=\"1\" class=\"dataframe\">\n",
              "  <thead>\n",
              "    <tr style=\"text-align: right;\">\n",
              "      <th></th>\n",
              "      <th>SeniorCitizen</th>\n",
              "      <th>tenure</th>\n",
              "      <th>MonthlyCharges</th>\n",
              "      <th>TotalCharges</th>\n",
              "    </tr>\n",
              "  </thead>\n",
              "  <tbody>\n",
              "    <tr>\n",
              "      <th>count</th>\n",
              "      <td>7043.000000</td>\n",
              "      <td>7043.000000</td>\n",
              "      <td>7043.000000</td>\n",
              "      <td>7032.000000</td>\n",
              "    </tr>\n",
              "    <tr>\n",
              "      <th>mean</th>\n",
              "      <td>0.162147</td>\n",
              "      <td>32.371149</td>\n",
              "      <td>64.761692</td>\n",
              "      <td>2283.300441</td>\n",
              "    </tr>\n",
              "    <tr>\n",
              "      <th>std</th>\n",
              "      <td>0.368612</td>\n",
              "      <td>24.559481</td>\n",
              "      <td>30.090047</td>\n",
              "      <td>2266.771362</td>\n",
              "    </tr>\n",
              "    <tr>\n",
              "      <th>min</th>\n",
              "      <td>0.000000</td>\n",
              "      <td>0.000000</td>\n",
              "      <td>18.250000</td>\n",
              "      <td>18.800000</td>\n",
              "    </tr>\n",
              "    <tr>\n",
              "      <th>25%</th>\n",
              "      <td>0.000000</td>\n",
              "      <td>9.000000</td>\n",
              "      <td>35.500000</td>\n",
              "      <td>401.450000</td>\n",
              "    </tr>\n",
              "    <tr>\n",
              "      <th>50%</th>\n",
              "      <td>0.000000</td>\n",
              "      <td>29.000000</td>\n",
              "      <td>70.350000</td>\n",
              "      <td>1397.475000</td>\n",
              "    </tr>\n",
              "    <tr>\n",
              "      <th>75%</th>\n",
              "      <td>0.000000</td>\n",
              "      <td>55.000000</td>\n",
              "      <td>89.850000</td>\n",
              "      <td>3794.737500</td>\n",
              "    </tr>\n",
              "    <tr>\n",
              "      <th>max</th>\n",
              "      <td>1.000000</td>\n",
              "      <td>72.000000</td>\n",
              "      <td>118.750000</td>\n",
              "      <td>8684.800000</td>\n",
              "    </tr>\n",
              "  </tbody>\n",
              "</table>\n",
              "</div>\n",
              "      <button class=\"colab-df-convert\" onclick=\"convertToInteractive('df-308f3b12-bc29-42ba-98f7-f5761b28616c')\"\n",
              "              title=\"Convert this dataframe to an interactive table.\"\n",
              "              style=\"display:none;\">\n",
              "        \n",
              "  <svg xmlns=\"http://www.w3.org/2000/svg\" height=\"24px\"viewBox=\"0 0 24 24\"\n",
              "       width=\"24px\">\n",
              "    <path d=\"M0 0h24v24H0V0z\" fill=\"none\"/>\n",
              "    <path d=\"M18.56 5.44l.94 2.06.94-2.06 2.06-.94-2.06-.94-.94-2.06-.94 2.06-2.06.94zm-11 1L8.5 8.5l.94-2.06 2.06-.94-2.06-.94L8.5 2.5l-.94 2.06-2.06.94zm10 10l.94 2.06.94-2.06 2.06-.94-2.06-.94-.94-2.06-.94 2.06-2.06.94z\"/><path d=\"M17.41 7.96l-1.37-1.37c-.4-.4-.92-.59-1.43-.59-.52 0-1.04.2-1.43.59L10.3 9.45l-7.72 7.72c-.78.78-.78 2.05 0 2.83L4 21.41c.39.39.9.59 1.41.59.51 0 1.02-.2 1.41-.59l7.78-7.78 2.81-2.81c.8-.78.8-2.07 0-2.86zM5.41 20L4 18.59l7.72-7.72 1.47 1.35L5.41 20z\"/>\n",
              "  </svg>\n",
              "      </button>\n",
              "      \n",
              "  <style>\n",
              "    .colab-df-container {\n",
              "      display:flex;\n",
              "      flex-wrap:wrap;\n",
              "      gap: 12px;\n",
              "    }\n",
              "\n",
              "    .colab-df-convert {\n",
              "      background-color: #E8F0FE;\n",
              "      border: none;\n",
              "      border-radius: 50%;\n",
              "      cursor: pointer;\n",
              "      display: none;\n",
              "      fill: #1967D2;\n",
              "      height: 32px;\n",
              "      padding: 0 0 0 0;\n",
              "      width: 32px;\n",
              "    }\n",
              "\n",
              "    .colab-df-convert:hover {\n",
              "      background-color: #E2EBFA;\n",
              "      box-shadow: 0px 1px 2px rgba(60, 64, 67, 0.3), 0px 1px 3px 1px rgba(60, 64, 67, 0.15);\n",
              "      fill: #174EA6;\n",
              "    }\n",
              "\n",
              "    [theme=dark] .colab-df-convert {\n",
              "      background-color: #3B4455;\n",
              "      fill: #D2E3FC;\n",
              "    }\n",
              "\n",
              "    [theme=dark] .colab-df-convert:hover {\n",
              "      background-color: #434B5C;\n",
              "      box-shadow: 0px 1px 3px 1px rgba(0, 0, 0, 0.15);\n",
              "      filter: drop-shadow(0px 1px 2px rgba(0, 0, 0, 0.3));\n",
              "      fill: #FFFFFF;\n",
              "    }\n",
              "  </style>\n",
              "\n",
              "      <script>\n",
              "        const buttonEl =\n",
              "          document.querySelector('#df-308f3b12-bc29-42ba-98f7-f5761b28616c button.colab-df-convert');\n",
              "        buttonEl.style.display =\n",
              "          google.colab.kernel.accessAllowed ? 'block' : 'none';\n",
              "\n",
              "        async function convertToInteractive(key) {\n",
              "          const element = document.querySelector('#df-308f3b12-bc29-42ba-98f7-f5761b28616c');\n",
              "          const dataTable =\n",
              "            await google.colab.kernel.invokeFunction('convertToInteractive',\n",
              "                                                     [key], {});\n",
              "          if (!dataTable) return;\n",
              "\n",
              "          const docLinkHtml = 'Like what you see? Visit the ' +\n",
              "            '<a target=\"_blank\" href=https://colab.research.google.com/notebooks/data_table.ipynb>data table notebook</a>'\n",
              "            + ' to learn more about interactive tables.';\n",
              "          element.innerHTML = '';\n",
              "          dataTable['output_type'] = 'display_data';\n",
              "          await google.colab.output.renderOutput(dataTable, element);\n",
              "          const docLink = document.createElement('div');\n",
              "          docLink.innerHTML = docLinkHtml;\n",
              "          element.appendChild(docLink);\n",
              "        }\n",
              "      </script>\n",
              "    </div>\n",
              "  </div>\n",
              "  "
            ]
          },
          "metadata": {},
          "execution_count": 26
        }
      ]
    },
    {
      "cell_type": "markdown",
      "source": [
        "# Prétraitement des données"
      ],
      "metadata": {
        "id": "lwzXvv0pre3Z"
      }
    },
    {
      "cell_type": "code",
      "source": [
        "# Gestion des valeurs manquantes\n",
        "\n",
        "data = df.copy()\n",
        "\n",
        "data.isna().sum()"
      ],
      "metadata": {
        "colab": {
          "base_uri": "https://localhost:8080/"
        },
        "id": "HbpY1a3fsAkL",
        "outputId": "b6fff5be-b855-4b1f-a873-da540e3469a5"
      },
      "execution_count": 27,
      "outputs": [
        {
          "output_type": "execute_result",
          "data": {
            "text/plain": [
              "customerID           0\n",
              "gender               0\n",
              "SeniorCitizen        0\n",
              "Partner              0\n",
              "Dependents           0\n",
              "tenure               0\n",
              "PhoneService         0\n",
              "MultipleLines        0\n",
              "InternetService      0\n",
              "OnlineSecurity       0\n",
              "OnlineBackup         0\n",
              "DeviceProtection     0\n",
              "TechSupport          0\n",
              "StreamingTV          0\n",
              "StreamingMovies      0\n",
              "Contract             0\n",
              "PaperlessBilling     0\n",
              "PaymentMethod        0\n",
              "MonthlyCharges       0\n",
              "TotalCharges        11\n",
              "Churn                0\n",
              "dtype: int64"
            ]
          },
          "metadata": {},
          "execution_count": 27
        }
      ]
    },
    {
      "cell_type": "markdown",
      "source": [
        "Nous constatons qu'il y a 11 valeurs manquantes dans la variable *MonthlyCharges*. Nous allons supprimer ces valeurs manquantes."
      ],
      "metadata": {
        "id": "j0Xrr8tluFTj"
      }
    },
    {
      "cell_type": "code",
      "source": [
        "# Suppression des valeurs manquantes\n",
        "\n",
        "data.dropna(inplace=True)\n",
        "\n",
        "data.isna().sum()"
      ],
      "metadata": {
        "colab": {
          "base_uri": "https://localhost:8080/"
        },
        "id": "9Da6PjBGsqmu",
        "outputId": "7a5cd613-e2a9-44c2-971a-6361be2c4b3d"
      },
      "execution_count": 28,
      "outputs": [
        {
          "output_type": "execute_result",
          "data": {
            "text/plain": [
              "customerID          0\n",
              "gender              0\n",
              "SeniorCitizen       0\n",
              "Partner             0\n",
              "Dependents          0\n",
              "tenure              0\n",
              "PhoneService        0\n",
              "MultipleLines       0\n",
              "InternetService     0\n",
              "OnlineSecurity      0\n",
              "OnlineBackup        0\n",
              "DeviceProtection    0\n",
              "TechSupport         0\n",
              "StreamingTV         0\n",
              "StreamingMovies     0\n",
              "Contract            0\n",
              "PaperlessBilling    0\n",
              "PaymentMethod       0\n",
              "MonthlyCharges      0\n",
              "TotalCharges        0\n",
              "Churn               0\n",
              "dtype: int64"
            ]
          },
          "metadata": {},
          "execution_count": 28
        }
      ]
    },
    {
      "cell_type": "code",
      "source": [
        "data.head()"
      ],
      "metadata": {
        "colab": {
          "base_uri": "https://localhost:8080/",
          "height": 386
        },
        "id": "USWJ2WyxvE08",
        "outputId": "eca40716-87da-4ed0-fe4c-cf9721941c3b"
      },
      "execution_count": 29,
      "outputs": [
        {
          "output_type": "execute_result",
          "data": {
            "text/plain": [
              "   customerID  gender  SeniorCitizen Partner Dependents  tenure PhoneService  \\\n",
              "0  7590-VHVEG  Female              0     Yes         No       1           No   \n",
              "1  5575-GNVDE    Male              0      No         No      34          Yes   \n",
              "2  3668-QPYBK    Male              0      No         No       2          Yes   \n",
              "3  7795-CFOCW    Male              0      No         No      45           No   \n",
              "4  9237-HQITU  Female              0      No         No       2          Yes   \n",
              "\n",
              "      MultipleLines InternetService OnlineSecurity  ... DeviceProtection  \\\n",
              "0  No phone service             DSL             No  ...               No   \n",
              "1                No             DSL            Yes  ...              Yes   \n",
              "2                No             DSL            Yes  ...               No   \n",
              "3  No phone service             DSL            Yes  ...              Yes   \n",
              "4                No     Fiber optic             No  ...               No   \n",
              "\n",
              "  TechSupport StreamingTV StreamingMovies        Contract PaperlessBilling  \\\n",
              "0          No          No              No  Month-to-month              Yes   \n",
              "1          No          No              No        One year               No   \n",
              "2          No          No              No  Month-to-month              Yes   \n",
              "3         Yes          No              No        One year               No   \n",
              "4          No          No              No  Month-to-month              Yes   \n",
              "\n",
              "               PaymentMethod MonthlyCharges  TotalCharges  Churn  \n",
              "0           Electronic check          29.85         29.85     No  \n",
              "1               Mailed check          56.95       1889.50     No  \n",
              "2               Mailed check          53.85        108.15    Yes  \n",
              "3  Bank transfer (automatic)          42.30       1840.75     No  \n",
              "4           Electronic check          70.70        151.65    Yes  \n",
              "\n",
              "[5 rows x 21 columns]"
            ],
            "text/html": [
              "\n",
              "  <div id=\"df-0deaa14e-1a50-4664-a8ed-b1cd5e3ee447\">\n",
              "    <div class=\"colab-df-container\">\n",
              "      <div>\n",
              "<style scoped>\n",
              "    .dataframe tbody tr th:only-of-type {\n",
              "        vertical-align: middle;\n",
              "    }\n",
              "\n",
              "    .dataframe tbody tr th {\n",
              "        vertical-align: top;\n",
              "    }\n",
              "\n",
              "    .dataframe thead th {\n",
              "        text-align: right;\n",
              "    }\n",
              "</style>\n",
              "<table border=\"1\" class=\"dataframe\">\n",
              "  <thead>\n",
              "    <tr style=\"text-align: right;\">\n",
              "      <th></th>\n",
              "      <th>customerID</th>\n",
              "      <th>gender</th>\n",
              "      <th>SeniorCitizen</th>\n",
              "      <th>Partner</th>\n",
              "      <th>Dependents</th>\n",
              "      <th>tenure</th>\n",
              "      <th>PhoneService</th>\n",
              "      <th>MultipleLines</th>\n",
              "      <th>InternetService</th>\n",
              "      <th>OnlineSecurity</th>\n",
              "      <th>...</th>\n",
              "      <th>DeviceProtection</th>\n",
              "      <th>TechSupport</th>\n",
              "      <th>StreamingTV</th>\n",
              "      <th>StreamingMovies</th>\n",
              "      <th>Contract</th>\n",
              "      <th>PaperlessBilling</th>\n",
              "      <th>PaymentMethod</th>\n",
              "      <th>MonthlyCharges</th>\n",
              "      <th>TotalCharges</th>\n",
              "      <th>Churn</th>\n",
              "    </tr>\n",
              "  </thead>\n",
              "  <tbody>\n",
              "    <tr>\n",
              "      <th>0</th>\n",
              "      <td>7590-VHVEG</td>\n",
              "      <td>Female</td>\n",
              "      <td>0</td>\n",
              "      <td>Yes</td>\n",
              "      <td>No</td>\n",
              "      <td>1</td>\n",
              "      <td>No</td>\n",
              "      <td>No phone service</td>\n",
              "      <td>DSL</td>\n",
              "      <td>No</td>\n",
              "      <td>...</td>\n",
              "      <td>No</td>\n",
              "      <td>No</td>\n",
              "      <td>No</td>\n",
              "      <td>No</td>\n",
              "      <td>Month-to-month</td>\n",
              "      <td>Yes</td>\n",
              "      <td>Electronic check</td>\n",
              "      <td>29.85</td>\n",
              "      <td>29.85</td>\n",
              "      <td>No</td>\n",
              "    </tr>\n",
              "    <tr>\n",
              "      <th>1</th>\n",
              "      <td>5575-GNVDE</td>\n",
              "      <td>Male</td>\n",
              "      <td>0</td>\n",
              "      <td>No</td>\n",
              "      <td>No</td>\n",
              "      <td>34</td>\n",
              "      <td>Yes</td>\n",
              "      <td>No</td>\n",
              "      <td>DSL</td>\n",
              "      <td>Yes</td>\n",
              "      <td>...</td>\n",
              "      <td>Yes</td>\n",
              "      <td>No</td>\n",
              "      <td>No</td>\n",
              "      <td>No</td>\n",
              "      <td>One year</td>\n",
              "      <td>No</td>\n",
              "      <td>Mailed check</td>\n",
              "      <td>56.95</td>\n",
              "      <td>1889.50</td>\n",
              "      <td>No</td>\n",
              "    </tr>\n",
              "    <tr>\n",
              "      <th>2</th>\n",
              "      <td>3668-QPYBK</td>\n",
              "      <td>Male</td>\n",
              "      <td>0</td>\n",
              "      <td>No</td>\n",
              "      <td>No</td>\n",
              "      <td>2</td>\n",
              "      <td>Yes</td>\n",
              "      <td>No</td>\n",
              "      <td>DSL</td>\n",
              "      <td>Yes</td>\n",
              "      <td>...</td>\n",
              "      <td>No</td>\n",
              "      <td>No</td>\n",
              "      <td>No</td>\n",
              "      <td>No</td>\n",
              "      <td>Month-to-month</td>\n",
              "      <td>Yes</td>\n",
              "      <td>Mailed check</td>\n",
              "      <td>53.85</td>\n",
              "      <td>108.15</td>\n",
              "      <td>Yes</td>\n",
              "    </tr>\n",
              "    <tr>\n",
              "      <th>3</th>\n",
              "      <td>7795-CFOCW</td>\n",
              "      <td>Male</td>\n",
              "      <td>0</td>\n",
              "      <td>No</td>\n",
              "      <td>No</td>\n",
              "      <td>45</td>\n",
              "      <td>No</td>\n",
              "      <td>No phone service</td>\n",
              "      <td>DSL</td>\n",
              "      <td>Yes</td>\n",
              "      <td>...</td>\n",
              "      <td>Yes</td>\n",
              "      <td>Yes</td>\n",
              "      <td>No</td>\n",
              "      <td>No</td>\n",
              "      <td>One year</td>\n",
              "      <td>No</td>\n",
              "      <td>Bank transfer (automatic)</td>\n",
              "      <td>42.30</td>\n",
              "      <td>1840.75</td>\n",
              "      <td>No</td>\n",
              "    </tr>\n",
              "    <tr>\n",
              "      <th>4</th>\n",
              "      <td>9237-HQITU</td>\n",
              "      <td>Female</td>\n",
              "      <td>0</td>\n",
              "      <td>No</td>\n",
              "      <td>No</td>\n",
              "      <td>2</td>\n",
              "      <td>Yes</td>\n",
              "      <td>No</td>\n",
              "      <td>Fiber optic</td>\n",
              "      <td>No</td>\n",
              "      <td>...</td>\n",
              "      <td>No</td>\n",
              "      <td>No</td>\n",
              "      <td>No</td>\n",
              "      <td>No</td>\n",
              "      <td>Month-to-month</td>\n",
              "      <td>Yes</td>\n",
              "      <td>Electronic check</td>\n",
              "      <td>70.70</td>\n",
              "      <td>151.65</td>\n",
              "      <td>Yes</td>\n",
              "    </tr>\n",
              "  </tbody>\n",
              "</table>\n",
              "<p>5 rows × 21 columns</p>\n",
              "</div>\n",
              "      <button class=\"colab-df-convert\" onclick=\"convertToInteractive('df-0deaa14e-1a50-4664-a8ed-b1cd5e3ee447')\"\n",
              "              title=\"Convert this dataframe to an interactive table.\"\n",
              "              style=\"display:none;\">\n",
              "        \n",
              "  <svg xmlns=\"http://www.w3.org/2000/svg\" height=\"24px\"viewBox=\"0 0 24 24\"\n",
              "       width=\"24px\">\n",
              "    <path d=\"M0 0h24v24H0V0z\" fill=\"none\"/>\n",
              "    <path d=\"M18.56 5.44l.94 2.06.94-2.06 2.06-.94-2.06-.94-.94-2.06-.94 2.06-2.06.94zm-11 1L8.5 8.5l.94-2.06 2.06-.94-2.06-.94L8.5 2.5l-.94 2.06-2.06.94zm10 10l.94 2.06.94-2.06 2.06-.94-2.06-.94-.94-2.06-.94 2.06-2.06.94z\"/><path d=\"M17.41 7.96l-1.37-1.37c-.4-.4-.92-.59-1.43-.59-.52 0-1.04.2-1.43.59L10.3 9.45l-7.72 7.72c-.78.78-.78 2.05 0 2.83L4 21.41c.39.39.9.59 1.41.59.51 0 1.02-.2 1.41-.59l7.78-7.78 2.81-2.81c.8-.78.8-2.07 0-2.86zM5.41 20L4 18.59l7.72-7.72 1.47 1.35L5.41 20z\"/>\n",
              "  </svg>\n",
              "      </button>\n",
              "      \n",
              "  <style>\n",
              "    .colab-df-container {\n",
              "      display:flex;\n",
              "      flex-wrap:wrap;\n",
              "      gap: 12px;\n",
              "    }\n",
              "\n",
              "    .colab-df-convert {\n",
              "      background-color: #E8F0FE;\n",
              "      border: none;\n",
              "      border-radius: 50%;\n",
              "      cursor: pointer;\n",
              "      display: none;\n",
              "      fill: #1967D2;\n",
              "      height: 32px;\n",
              "      padding: 0 0 0 0;\n",
              "      width: 32px;\n",
              "    }\n",
              "\n",
              "    .colab-df-convert:hover {\n",
              "      background-color: #E2EBFA;\n",
              "      box-shadow: 0px 1px 2px rgba(60, 64, 67, 0.3), 0px 1px 3px 1px rgba(60, 64, 67, 0.15);\n",
              "      fill: #174EA6;\n",
              "    }\n",
              "\n",
              "    [theme=dark] .colab-df-convert {\n",
              "      background-color: #3B4455;\n",
              "      fill: #D2E3FC;\n",
              "    }\n",
              "\n",
              "    [theme=dark] .colab-df-convert:hover {\n",
              "      background-color: #434B5C;\n",
              "      box-shadow: 0px 1px 3px 1px rgba(0, 0, 0, 0.15);\n",
              "      filter: drop-shadow(0px 1px 2px rgba(0, 0, 0, 0.3));\n",
              "      fill: #FFFFFF;\n",
              "    }\n",
              "  </style>\n",
              "\n",
              "      <script>\n",
              "        const buttonEl =\n",
              "          document.querySelector('#df-0deaa14e-1a50-4664-a8ed-b1cd5e3ee447 button.colab-df-convert');\n",
              "        buttonEl.style.display =\n",
              "          google.colab.kernel.accessAllowed ? 'block' : 'none';\n",
              "\n",
              "        async function convertToInteractive(key) {\n",
              "          const element = document.querySelector('#df-0deaa14e-1a50-4664-a8ed-b1cd5e3ee447');\n",
              "          const dataTable =\n",
              "            await google.colab.kernel.invokeFunction('convertToInteractive',\n",
              "                                                     [key], {});\n",
              "          if (!dataTable) return;\n",
              "\n",
              "          const docLinkHtml = 'Like what you see? Visit the ' +\n",
              "            '<a target=\"_blank\" href=https://colab.research.google.com/notebooks/data_table.ipynb>data table notebook</a>'\n",
              "            + ' to learn more about interactive tables.';\n",
              "          element.innerHTML = '';\n",
              "          dataTable['output_type'] = 'display_data';\n",
              "          await google.colab.output.renderOutput(dataTable, element);\n",
              "          const docLink = document.createElement('div');\n",
              "          docLink.innerHTML = docLinkHtml;\n",
              "          element.appendChild(docLink);\n",
              "        }\n",
              "      </script>\n",
              "    </div>\n",
              "  </div>\n",
              "  "
            ]
          },
          "metadata": {},
          "execution_count": 29
        }
      ]
    },
    {
      "cell_type": "code",
      "source": [
        "# Encodages des variables binaires\n",
        "\n",
        "data['gender'] = data['gender'].apply(lambda row: 1 if row == 'female' else 0)\n",
        "\n",
        "binairy_columns = data.drop('gender', axis=1).nunique()[data.drop('gender', axis=1).nunique() < 3].keys().to_list()\n",
        "\n",
        "binairy_columns"
      ],
      "metadata": {
        "colab": {
          "base_uri": "https://localhost:8080/"
        },
        "id": "h7CHk_c2slDD",
        "outputId": "77f86286-b3b5-4ad8-9755-08b4c214adc4"
      },
      "execution_count": 30,
      "outputs": [
        {
          "output_type": "execute_result",
          "data": {
            "text/plain": [
              "['SeniorCitizen',\n",
              " 'Partner',\n",
              " 'Dependents',\n",
              " 'PhoneService',\n",
              " 'PaperlessBilling',\n",
              " 'Churn']"
            ]
          },
          "metadata": {},
          "execution_count": 30
        }
      ]
    },
    {
      "cell_type": "code",
      "source": [
        "# Nous avons trouvé les variables binaires. Maintenant nous les encodons.\n",
        "\n",
        "for column in binairy_columns:\n",
        "  data[column] = data[column].apply(lambda row: 1 if row == 'Yes' else 0)"
      ],
      "metadata": {
        "id": "-VWSLJVTvx6y"
      },
      "execution_count": 31,
      "outputs": []
    },
    {
      "cell_type": "code",
      "source": [
        "data.head()"
      ],
      "metadata": {
        "colab": {
          "base_uri": "https://localhost:8080/",
          "height": 386
        },
        "id": "srbpQskgwbH0",
        "outputId": "7c8514d8-ffc8-41ea-eac9-2c3d7172aa7a"
      },
      "execution_count": 32,
      "outputs": [
        {
          "output_type": "execute_result",
          "data": {
            "text/plain": [
              "   customerID  gender  SeniorCitizen  Partner  Dependents  tenure  \\\n",
              "0  7590-VHVEG       0              0        1           0       1   \n",
              "1  5575-GNVDE       0              0        0           0      34   \n",
              "2  3668-QPYBK       0              0        0           0       2   \n",
              "3  7795-CFOCW       0              0        0           0      45   \n",
              "4  9237-HQITU       0              0        0           0       2   \n",
              "\n",
              "   PhoneService     MultipleLines InternetService OnlineSecurity  ...  \\\n",
              "0             0  No phone service             DSL             No  ...   \n",
              "1             1                No             DSL            Yes  ...   \n",
              "2             1                No             DSL            Yes  ...   \n",
              "3             0  No phone service             DSL            Yes  ...   \n",
              "4             1                No     Fiber optic             No  ...   \n",
              "\n",
              "  DeviceProtection TechSupport StreamingTV StreamingMovies        Contract  \\\n",
              "0               No          No          No              No  Month-to-month   \n",
              "1              Yes          No          No              No        One year   \n",
              "2               No          No          No              No  Month-to-month   \n",
              "3              Yes         Yes          No              No        One year   \n",
              "4               No          No          No              No  Month-to-month   \n",
              "\n",
              "  PaperlessBilling              PaymentMethod MonthlyCharges  TotalCharges  \\\n",
              "0                1           Electronic check          29.85         29.85   \n",
              "1                0               Mailed check          56.95       1889.50   \n",
              "2                1               Mailed check          53.85        108.15   \n",
              "3                0  Bank transfer (automatic)          42.30       1840.75   \n",
              "4                1           Electronic check          70.70        151.65   \n",
              "\n",
              "   Churn  \n",
              "0      0  \n",
              "1      0  \n",
              "2      1  \n",
              "3      0  \n",
              "4      1  \n",
              "\n",
              "[5 rows x 21 columns]"
            ],
            "text/html": [
              "\n",
              "  <div id=\"df-c0bb5c52-2bb4-49b3-a002-401375717ce8\">\n",
              "    <div class=\"colab-df-container\">\n",
              "      <div>\n",
              "<style scoped>\n",
              "    .dataframe tbody tr th:only-of-type {\n",
              "        vertical-align: middle;\n",
              "    }\n",
              "\n",
              "    .dataframe tbody tr th {\n",
              "        vertical-align: top;\n",
              "    }\n",
              "\n",
              "    .dataframe thead th {\n",
              "        text-align: right;\n",
              "    }\n",
              "</style>\n",
              "<table border=\"1\" class=\"dataframe\">\n",
              "  <thead>\n",
              "    <tr style=\"text-align: right;\">\n",
              "      <th></th>\n",
              "      <th>customerID</th>\n",
              "      <th>gender</th>\n",
              "      <th>SeniorCitizen</th>\n",
              "      <th>Partner</th>\n",
              "      <th>Dependents</th>\n",
              "      <th>tenure</th>\n",
              "      <th>PhoneService</th>\n",
              "      <th>MultipleLines</th>\n",
              "      <th>InternetService</th>\n",
              "      <th>OnlineSecurity</th>\n",
              "      <th>...</th>\n",
              "      <th>DeviceProtection</th>\n",
              "      <th>TechSupport</th>\n",
              "      <th>StreamingTV</th>\n",
              "      <th>StreamingMovies</th>\n",
              "      <th>Contract</th>\n",
              "      <th>PaperlessBilling</th>\n",
              "      <th>PaymentMethod</th>\n",
              "      <th>MonthlyCharges</th>\n",
              "      <th>TotalCharges</th>\n",
              "      <th>Churn</th>\n",
              "    </tr>\n",
              "  </thead>\n",
              "  <tbody>\n",
              "    <tr>\n",
              "      <th>0</th>\n",
              "      <td>7590-VHVEG</td>\n",
              "      <td>0</td>\n",
              "      <td>0</td>\n",
              "      <td>1</td>\n",
              "      <td>0</td>\n",
              "      <td>1</td>\n",
              "      <td>0</td>\n",
              "      <td>No phone service</td>\n",
              "      <td>DSL</td>\n",
              "      <td>No</td>\n",
              "      <td>...</td>\n",
              "      <td>No</td>\n",
              "      <td>No</td>\n",
              "      <td>No</td>\n",
              "      <td>No</td>\n",
              "      <td>Month-to-month</td>\n",
              "      <td>1</td>\n",
              "      <td>Electronic check</td>\n",
              "      <td>29.85</td>\n",
              "      <td>29.85</td>\n",
              "      <td>0</td>\n",
              "    </tr>\n",
              "    <tr>\n",
              "      <th>1</th>\n",
              "      <td>5575-GNVDE</td>\n",
              "      <td>0</td>\n",
              "      <td>0</td>\n",
              "      <td>0</td>\n",
              "      <td>0</td>\n",
              "      <td>34</td>\n",
              "      <td>1</td>\n",
              "      <td>No</td>\n",
              "      <td>DSL</td>\n",
              "      <td>Yes</td>\n",
              "      <td>...</td>\n",
              "      <td>Yes</td>\n",
              "      <td>No</td>\n",
              "      <td>No</td>\n",
              "      <td>No</td>\n",
              "      <td>One year</td>\n",
              "      <td>0</td>\n",
              "      <td>Mailed check</td>\n",
              "      <td>56.95</td>\n",
              "      <td>1889.50</td>\n",
              "      <td>0</td>\n",
              "    </tr>\n",
              "    <tr>\n",
              "      <th>2</th>\n",
              "      <td>3668-QPYBK</td>\n",
              "      <td>0</td>\n",
              "      <td>0</td>\n",
              "      <td>0</td>\n",
              "      <td>0</td>\n",
              "      <td>2</td>\n",
              "      <td>1</td>\n",
              "      <td>No</td>\n",
              "      <td>DSL</td>\n",
              "      <td>Yes</td>\n",
              "      <td>...</td>\n",
              "      <td>No</td>\n",
              "      <td>No</td>\n",
              "      <td>No</td>\n",
              "      <td>No</td>\n",
              "      <td>Month-to-month</td>\n",
              "      <td>1</td>\n",
              "      <td>Mailed check</td>\n",
              "      <td>53.85</td>\n",
              "      <td>108.15</td>\n",
              "      <td>1</td>\n",
              "    </tr>\n",
              "    <tr>\n",
              "      <th>3</th>\n",
              "      <td>7795-CFOCW</td>\n",
              "      <td>0</td>\n",
              "      <td>0</td>\n",
              "      <td>0</td>\n",
              "      <td>0</td>\n",
              "      <td>45</td>\n",
              "      <td>0</td>\n",
              "      <td>No phone service</td>\n",
              "      <td>DSL</td>\n",
              "      <td>Yes</td>\n",
              "      <td>...</td>\n",
              "      <td>Yes</td>\n",
              "      <td>Yes</td>\n",
              "      <td>No</td>\n",
              "      <td>No</td>\n",
              "      <td>One year</td>\n",
              "      <td>0</td>\n",
              "      <td>Bank transfer (automatic)</td>\n",
              "      <td>42.30</td>\n",
              "      <td>1840.75</td>\n",
              "      <td>0</td>\n",
              "    </tr>\n",
              "    <tr>\n",
              "      <th>4</th>\n",
              "      <td>9237-HQITU</td>\n",
              "      <td>0</td>\n",
              "      <td>0</td>\n",
              "      <td>0</td>\n",
              "      <td>0</td>\n",
              "      <td>2</td>\n",
              "      <td>1</td>\n",
              "      <td>No</td>\n",
              "      <td>Fiber optic</td>\n",
              "      <td>No</td>\n",
              "      <td>...</td>\n",
              "      <td>No</td>\n",
              "      <td>No</td>\n",
              "      <td>No</td>\n",
              "      <td>No</td>\n",
              "      <td>Month-to-month</td>\n",
              "      <td>1</td>\n",
              "      <td>Electronic check</td>\n",
              "      <td>70.70</td>\n",
              "      <td>151.65</td>\n",
              "      <td>1</td>\n",
              "    </tr>\n",
              "  </tbody>\n",
              "</table>\n",
              "<p>5 rows × 21 columns</p>\n",
              "</div>\n",
              "      <button class=\"colab-df-convert\" onclick=\"convertToInteractive('df-c0bb5c52-2bb4-49b3-a002-401375717ce8')\"\n",
              "              title=\"Convert this dataframe to an interactive table.\"\n",
              "              style=\"display:none;\">\n",
              "        \n",
              "  <svg xmlns=\"http://www.w3.org/2000/svg\" height=\"24px\"viewBox=\"0 0 24 24\"\n",
              "       width=\"24px\">\n",
              "    <path d=\"M0 0h24v24H0V0z\" fill=\"none\"/>\n",
              "    <path d=\"M18.56 5.44l.94 2.06.94-2.06 2.06-.94-2.06-.94-.94-2.06-.94 2.06-2.06.94zm-11 1L8.5 8.5l.94-2.06 2.06-.94-2.06-.94L8.5 2.5l-.94 2.06-2.06.94zm10 10l.94 2.06.94-2.06 2.06-.94-2.06-.94-.94-2.06-.94 2.06-2.06.94z\"/><path d=\"M17.41 7.96l-1.37-1.37c-.4-.4-.92-.59-1.43-.59-.52 0-1.04.2-1.43.59L10.3 9.45l-7.72 7.72c-.78.78-.78 2.05 0 2.83L4 21.41c.39.39.9.59 1.41.59.51 0 1.02-.2 1.41-.59l7.78-7.78 2.81-2.81c.8-.78.8-2.07 0-2.86zM5.41 20L4 18.59l7.72-7.72 1.47 1.35L5.41 20z\"/>\n",
              "  </svg>\n",
              "      </button>\n",
              "      \n",
              "  <style>\n",
              "    .colab-df-container {\n",
              "      display:flex;\n",
              "      flex-wrap:wrap;\n",
              "      gap: 12px;\n",
              "    }\n",
              "\n",
              "    .colab-df-convert {\n",
              "      background-color: #E8F0FE;\n",
              "      border: none;\n",
              "      border-radius: 50%;\n",
              "      cursor: pointer;\n",
              "      display: none;\n",
              "      fill: #1967D2;\n",
              "      height: 32px;\n",
              "      padding: 0 0 0 0;\n",
              "      width: 32px;\n",
              "    }\n",
              "\n",
              "    .colab-df-convert:hover {\n",
              "      background-color: #E2EBFA;\n",
              "      box-shadow: 0px 1px 2px rgba(60, 64, 67, 0.3), 0px 1px 3px 1px rgba(60, 64, 67, 0.15);\n",
              "      fill: #174EA6;\n",
              "    }\n",
              "\n",
              "    [theme=dark] .colab-df-convert {\n",
              "      background-color: #3B4455;\n",
              "      fill: #D2E3FC;\n",
              "    }\n",
              "\n",
              "    [theme=dark] .colab-df-convert:hover {\n",
              "      background-color: #434B5C;\n",
              "      box-shadow: 0px 1px 3px 1px rgba(0, 0, 0, 0.15);\n",
              "      filter: drop-shadow(0px 1px 2px rgba(0, 0, 0, 0.3));\n",
              "      fill: #FFFFFF;\n",
              "    }\n",
              "  </style>\n",
              "\n",
              "      <script>\n",
              "        const buttonEl =\n",
              "          document.querySelector('#df-c0bb5c52-2bb4-49b3-a002-401375717ce8 button.colab-df-convert');\n",
              "        buttonEl.style.display =\n",
              "          google.colab.kernel.accessAllowed ? 'block' : 'none';\n",
              "\n",
              "        async function convertToInteractive(key) {\n",
              "          const element = document.querySelector('#df-c0bb5c52-2bb4-49b3-a002-401375717ce8');\n",
              "          const dataTable =\n",
              "            await google.colab.kernel.invokeFunction('convertToInteractive',\n",
              "                                                     [key], {});\n",
              "          if (!dataTable) return;\n",
              "\n",
              "          const docLinkHtml = 'Like what you see? Visit the ' +\n",
              "            '<a target=\"_blank\" href=https://colab.research.google.com/notebooks/data_table.ipynb>data table notebook</a>'\n",
              "            + ' to learn more about interactive tables.';\n",
              "          element.innerHTML = '';\n",
              "          dataTable['output_type'] = 'display_data';\n",
              "          await google.colab.output.renderOutput(dataTable, element);\n",
              "          const docLink = document.createElement('div');\n",
              "          docLink.innerHTML = docLinkHtml;\n",
              "          element.appendChild(docLink);\n",
              "        }\n",
              "      </script>\n",
              "    </div>\n",
              "  </div>\n",
              "  "
            ]
          },
          "metadata": {},
          "execution_count": 32
        }
      ]
    },
    {
      "cell_type": "code",
      "source": [
        "# Encodages des variables catégoricielles restantes\n",
        "\n",
        "encoding_cat_vars = data[categorical_columns].nunique()[data[categorical_columns].nunique() > 2].keys().to_list()\n",
        "\n",
        "encoding_cat_vars_dummies = pd.get_dummies(data=data[encoding_cat_vars], columns=encoding_cat_vars, drop_first=True)"
      ],
      "metadata": {
        "id": "e7zMcnads6X8"
      },
      "execution_count": 33,
      "outputs": []
    },
    {
      "cell_type": "code",
      "source": [
        "# Nouvelle dataframe\n",
        "\n",
        "data = pd.concat([data['gender'], data[binairy_columns], encoding_cat_vars_dummies, data[numerical_columns]], axis=1)"
      ],
      "metadata": {
        "id": "h-o1k49Ox4UO"
      },
      "execution_count": 34,
      "outputs": []
    },
    {
      "cell_type": "code",
      "source": [
        "# Affichage de la nouvelle dataframe\n",
        "\n",
        "data.head()"
      ],
      "metadata": {
        "colab": {
          "base_uri": "https://localhost:8080/",
          "height": 317
        },
        "id": "Nsxivmgrx4P2",
        "outputId": "c733c572-5d06-41d8-fe81-ef4017ac1f37"
      },
      "execution_count": 35,
      "outputs": [
        {
          "output_type": "execute_result",
          "data": {
            "text/plain": [
              "   gender  SeniorCitizen  Partner  Dependents  PhoneService  PaperlessBilling  \\\n",
              "0       0              0        1           0             0                 1   \n",
              "1       0              0        0           0             1                 0   \n",
              "2       0              0        0           0             1                 1   \n",
              "3       0              0        0           0             0                 0   \n",
              "4       0              0        0           0             1                 1   \n",
              "\n",
              "   Churn  MultipleLines_No phone service  MultipleLines_Yes  \\\n",
              "0      0                               1                  0   \n",
              "1      0                               0                  0   \n",
              "2      1                               0                  0   \n",
              "3      0                               1                  0   \n",
              "4      1                               0                  0   \n",
              "\n",
              "   InternetService_Fiber optic  ...  StreamingMovies_No internet service  \\\n",
              "0                            0  ...                                    0   \n",
              "1                            0  ...                                    0   \n",
              "2                            0  ...                                    0   \n",
              "3                            0  ...                                    0   \n",
              "4                            1  ...                                    0   \n",
              "\n",
              "   StreamingMovies_Yes  Contract_One year  Contract_Two year  \\\n",
              "0                    0                  0                  0   \n",
              "1                    0                  1                  0   \n",
              "2                    0                  0                  0   \n",
              "3                    0                  1                  0   \n",
              "4                    0                  0                  0   \n",
              "\n",
              "   PaymentMethod_Credit card (automatic)  PaymentMethod_Electronic check  \\\n",
              "0                                      0                               1   \n",
              "1                                      0                               0   \n",
              "2                                      0                               0   \n",
              "3                                      0                               0   \n",
              "4                                      0                               1   \n",
              "\n",
              "   PaymentMethod_Mailed check  tenure  MonthlyCharges  TotalCharges  \n",
              "0                           0       1           29.85         29.85  \n",
              "1                           1      34           56.95       1889.50  \n",
              "2                           1       2           53.85        108.15  \n",
              "3                           0      45           42.30       1840.75  \n",
              "4                           0       2           70.70        151.65  \n",
              "\n",
              "[5 rows x 31 columns]"
            ],
            "text/html": [
              "\n",
              "  <div id=\"df-ba18fb45-61f5-48a2-bbf2-c924f804ecbe\">\n",
              "    <div class=\"colab-df-container\">\n",
              "      <div>\n",
              "<style scoped>\n",
              "    .dataframe tbody tr th:only-of-type {\n",
              "        vertical-align: middle;\n",
              "    }\n",
              "\n",
              "    .dataframe tbody tr th {\n",
              "        vertical-align: top;\n",
              "    }\n",
              "\n",
              "    .dataframe thead th {\n",
              "        text-align: right;\n",
              "    }\n",
              "</style>\n",
              "<table border=\"1\" class=\"dataframe\">\n",
              "  <thead>\n",
              "    <tr style=\"text-align: right;\">\n",
              "      <th></th>\n",
              "      <th>gender</th>\n",
              "      <th>SeniorCitizen</th>\n",
              "      <th>Partner</th>\n",
              "      <th>Dependents</th>\n",
              "      <th>PhoneService</th>\n",
              "      <th>PaperlessBilling</th>\n",
              "      <th>Churn</th>\n",
              "      <th>MultipleLines_No phone service</th>\n",
              "      <th>MultipleLines_Yes</th>\n",
              "      <th>InternetService_Fiber optic</th>\n",
              "      <th>...</th>\n",
              "      <th>StreamingMovies_No internet service</th>\n",
              "      <th>StreamingMovies_Yes</th>\n",
              "      <th>Contract_One year</th>\n",
              "      <th>Contract_Two year</th>\n",
              "      <th>PaymentMethod_Credit card (automatic)</th>\n",
              "      <th>PaymentMethod_Electronic check</th>\n",
              "      <th>PaymentMethod_Mailed check</th>\n",
              "      <th>tenure</th>\n",
              "      <th>MonthlyCharges</th>\n",
              "      <th>TotalCharges</th>\n",
              "    </tr>\n",
              "  </thead>\n",
              "  <tbody>\n",
              "    <tr>\n",
              "      <th>0</th>\n",
              "      <td>0</td>\n",
              "      <td>0</td>\n",
              "      <td>1</td>\n",
              "      <td>0</td>\n",
              "      <td>0</td>\n",
              "      <td>1</td>\n",
              "      <td>0</td>\n",
              "      <td>1</td>\n",
              "      <td>0</td>\n",
              "      <td>0</td>\n",
              "      <td>...</td>\n",
              "      <td>0</td>\n",
              "      <td>0</td>\n",
              "      <td>0</td>\n",
              "      <td>0</td>\n",
              "      <td>0</td>\n",
              "      <td>1</td>\n",
              "      <td>0</td>\n",
              "      <td>1</td>\n",
              "      <td>29.85</td>\n",
              "      <td>29.85</td>\n",
              "    </tr>\n",
              "    <tr>\n",
              "      <th>1</th>\n",
              "      <td>0</td>\n",
              "      <td>0</td>\n",
              "      <td>0</td>\n",
              "      <td>0</td>\n",
              "      <td>1</td>\n",
              "      <td>0</td>\n",
              "      <td>0</td>\n",
              "      <td>0</td>\n",
              "      <td>0</td>\n",
              "      <td>0</td>\n",
              "      <td>...</td>\n",
              "      <td>0</td>\n",
              "      <td>0</td>\n",
              "      <td>1</td>\n",
              "      <td>0</td>\n",
              "      <td>0</td>\n",
              "      <td>0</td>\n",
              "      <td>1</td>\n",
              "      <td>34</td>\n",
              "      <td>56.95</td>\n",
              "      <td>1889.50</td>\n",
              "    </tr>\n",
              "    <tr>\n",
              "      <th>2</th>\n",
              "      <td>0</td>\n",
              "      <td>0</td>\n",
              "      <td>0</td>\n",
              "      <td>0</td>\n",
              "      <td>1</td>\n",
              "      <td>1</td>\n",
              "      <td>1</td>\n",
              "      <td>0</td>\n",
              "      <td>0</td>\n",
              "      <td>0</td>\n",
              "      <td>...</td>\n",
              "      <td>0</td>\n",
              "      <td>0</td>\n",
              "      <td>0</td>\n",
              "      <td>0</td>\n",
              "      <td>0</td>\n",
              "      <td>0</td>\n",
              "      <td>1</td>\n",
              "      <td>2</td>\n",
              "      <td>53.85</td>\n",
              "      <td>108.15</td>\n",
              "    </tr>\n",
              "    <tr>\n",
              "      <th>3</th>\n",
              "      <td>0</td>\n",
              "      <td>0</td>\n",
              "      <td>0</td>\n",
              "      <td>0</td>\n",
              "      <td>0</td>\n",
              "      <td>0</td>\n",
              "      <td>0</td>\n",
              "      <td>1</td>\n",
              "      <td>0</td>\n",
              "      <td>0</td>\n",
              "      <td>...</td>\n",
              "      <td>0</td>\n",
              "      <td>0</td>\n",
              "      <td>1</td>\n",
              "      <td>0</td>\n",
              "      <td>0</td>\n",
              "      <td>0</td>\n",
              "      <td>0</td>\n",
              "      <td>45</td>\n",
              "      <td>42.30</td>\n",
              "      <td>1840.75</td>\n",
              "    </tr>\n",
              "    <tr>\n",
              "      <th>4</th>\n",
              "      <td>0</td>\n",
              "      <td>0</td>\n",
              "      <td>0</td>\n",
              "      <td>0</td>\n",
              "      <td>1</td>\n",
              "      <td>1</td>\n",
              "      <td>1</td>\n",
              "      <td>0</td>\n",
              "      <td>0</td>\n",
              "      <td>1</td>\n",
              "      <td>...</td>\n",
              "      <td>0</td>\n",
              "      <td>0</td>\n",
              "      <td>0</td>\n",
              "      <td>0</td>\n",
              "      <td>0</td>\n",
              "      <td>1</td>\n",
              "      <td>0</td>\n",
              "      <td>2</td>\n",
              "      <td>70.70</td>\n",
              "      <td>151.65</td>\n",
              "    </tr>\n",
              "  </tbody>\n",
              "</table>\n",
              "<p>5 rows × 31 columns</p>\n",
              "</div>\n",
              "      <button class=\"colab-df-convert\" onclick=\"convertToInteractive('df-ba18fb45-61f5-48a2-bbf2-c924f804ecbe')\"\n",
              "              title=\"Convert this dataframe to an interactive table.\"\n",
              "              style=\"display:none;\">\n",
              "        \n",
              "  <svg xmlns=\"http://www.w3.org/2000/svg\" height=\"24px\"viewBox=\"0 0 24 24\"\n",
              "       width=\"24px\">\n",
              "    <path d=\"M0 0h24v24H0V0z\" fill=\"none\"/>\n",
              "    <path d=\"M18.56 5.44l.94 2.06.94-2.06 2.06-.94-2.06-.94-.94-2.06-.94 2.06-2.06.94zm-11 1L8.5 8.5l.94-2.06 2.06-.94-2.06-.94L8.5 2.5l-.94 2.06-2.06.94zm10 10l.94 2.06.94-2.06 2.06-.94-2.06-.94-.94-2.06-.94 2.06-2.06.94z\"/><path d=\"M17.41 7.96l-1.37-1.37c-.4-.4-.92-.59-1.43-.59-.52 0-1.04.2-1.43.59L10.3 9.45l-7.72 7.72c-.78.78-.78 2.05 0 2.83L4 21.41c.39.39.9.59 1.41.59.51 0 1.02-.2 1.41-.59l7.78-7.78 2.81-2.81c.8-.78.8-2.07 0-2.86zM5.41 20L4 18.59l7.72-7.72 1.47 1.35L5.41 20z\"/>\n",
              "  </svg>\n",
              "      </button>\n",
              "      \n",
              "  <style>\n",
              "    .colab-df-container {\n",
              "      display:flex;\n",
              "      flex-wrap:wrap;\n",
              "      gap: 12px;\n",
              "    }\n",
              "\n",
              "    .colab-df-convert {\n",
              "      background-color: #E8F0FE;\n",
              "      border: none;\n",
              "      border-radius: 50%;\n",
              "      cursor: pointer;\n",
              "      display: none;\n",
              "      fill: #1967D2;\n",
              "      height: 32px;\n",
              "      padding: 0 0 0 0;\n",
              "      width: 32px;\n",
              "    }\n",
              "\n",
              "    .colab-df-convert:hover {\n",
              "      background-color: #E2EBFA;\n",
              "      box-shadow: 0px 1px 2px rgba(60, 64, 67, 0.3), 0px 1px 3px 1px rgba(60, 64, 67, 0.15);\n",
              "      fill: #174EA6;\n",
              "    }\n",
              "\n",
              "    [theme=dark] .colab-df-convert {\n",
              "      background-color: #3B4455;\n",
              "      fill: #D2E3FC;\n",
              "    }\n",
              "\n",
              "    [theme=dark] .colab-df-convert:hover {\n",
              "      background-color: #434B5C;\n",
              "      box-shadow: 0px 1px 3px 1px rgba(0, 0, 0, 0.15);\n",
              "      filter: drop-shadow(0px 1px 2px rgba(0, 0, 0, 0.3));\n",
              "      fill: #FFFFFF;\n",
              "    }\n",
              "  </style>\n",
              "\n",
              "      <script>\n",
              "        const buttonEl =\n",
              "          document.querySelector('#df-ba18fb45-61f5-48a2-bbf2-c924f804ecbe button.colab-df-convert');\n",
              "        buttonEl.style.display =\n",
              "          google.colab.kernel.accessAllowed ? 'block' : 'none';\n",
              "\n",
              "        async function convertToInteractive(key) {\n",
              "          const element = document.querySelector('#df-ba18fb45-61f5-48a2-bbf2-c924f804ecbe');\n",
              "          const dataTable =\n",
              "            await google.colab.kernel.invokeFunction('convertToInteractive',\n",
              "                                                     [key], {});\n",
              "          if (!dataTable) return;\n",
              "\n",
              "          const docLinkHtml = 'Like what you see? Visit the ' +\n",
              "            '<a target=\"_blank\" href=https://colab.research.google.com/notebooks/data_table.ipynb>data table notebook</a>'\n",
              "            + ' to learn more about interactive tables.';\n",
              "          element.innerHTML = '';\n",
              "          dataTable['output_type'] = 'display_data';\n",
              "          await google.colab.output.renderOutput(dataTable, element);\n",
              "          const docLink = document.createElement('div');\n",
              "          docLink.innerHTML = docLinkHtml;\n",
              "          element.appendChild(docLink);\n",
              "        }\n",
              "      </script>\n",
              "    </div>\n",
              "  </div>\n",
              "  "
            ]
          },
          "metadata": {},
          "execution_count": 35
        }
      ]
    },
    {
      "cell_type": "markdown",
      "source": [
        "Nous avons vu que la variable *TotalCharges* est très asymétriques alors transformons-la par une fonction racine carrée"
      ],
      "metadata": {
        "id": "gtZhH84hzN9S"
      }
    },
    {
      "cell_type": "code",
      "source": [
        "# Transformation de la variable 'TotalCharges'\n",
        "\n",
        "data['TotalCharges'] = np.sqrt(data['TotalCharges'])\n",
        "\n",
        "# Histogramme de la variables transformées\n",
        "\n",
        "sns.displot(data['TotalCharges'], kde=False)"
      ],
      "metadata": {
        "colab": {
          "base_uri": "https://localhost:8080/",
          "height": 523
        },
        "id": "ANT7OXPqzBjW",
        "outputId": "9adfeebc-b632-4a62-a6f4-00b315d9bf42"
      },
      "execution_count": 42,
      "outputs": [
        {
          "output_type": "execute_result",
          "data": {
            "text/plain": [
              "<seaborn.axisgrid.FacetGrid at 0x7f6f1e2ce3a0>"
            ]
          },
          "metadata": {},
          "execution_count": 42
        },
        {
          "output_type": "display_data",
          "data": {
            "text/plain": [
              "<Figure size 500x500 with 1 Axes>"
            ],
            "image/png": "[encoded data removed]"
          },
          "metadata": {}
        }
      ]
    },
    {
      "cell_type": "code",
      "source": [
        "# Coefficient d'asymétrie de la variable 'TotalCharges' après transformation\n",
        "\n",
        "data['TotalCharges'].skew()"
      ],
      "metadata": {
        "colab": {
          "base_uri": "https://localhost:8080/"
        },
        "id": "27pX0xfU04D8",
        "outputId": "e540be89-11b8-4e7c-a52a-ccd60ec06325"
      },
      "execution_count": 43,
      "outputs": [
        {
          "output_type": "execute_result",
          "data": {
            "text/plain": [
              "-0.15579743559252088"
            ]
          },
          "metadata": {},
          "execution_count": 43
        }
      ]
    },
    {
      "cell_type": "code",
      "source": [
        "# Données d'entraîment 60%, de validation 20% et de test 20%\n",
        "\n",
        "X = data.drop('Churn', axis = 1)\n",
        "y = data['Churn']\n",
        "seed=25\n",
        "X_train, X_test, y_train, y_test = train_test_split(X, y, test_size = 0.4, random_state = seed, stratify = y)\n",
        "X_val, X_test, y_val, y_test = train_test_split(X_test, y_test, test_size = 0.5, random_state = seed, stratify = y_test)"
      ],
      "metadata": {
        "id": "gV8WkuDW04AX"
      },
      "execution_count": 45,
      "outputs": []
    },
    {
      "cell_type": "markdown",
      "source": [
        "Il faut s'assurer que les proportions de personnes ayant résilié ou non leur contact soient les mêmes dans les différents ensembles de données."
      ],
      "metadata": {
        "id": "J-_O1MwN1lxZ"
      }
    },
    {
      "cell_type": "code",
      "source": [
        "# Fréquence des classes dans y\n",
        "pd.DataFrame(y).value_counts(normalize = True)"
      ],
      "metadata": {
        "colab": {
          "base_uri": "https://localhost:8080/"
        },
        "id": "ElYGETpuzBX3",
        "outputId": "3cb4a67d-adbf-481c-9cc5-7f868f8e1b81"
      },
      "execution_count": 46,
      "outputs": [
        {
          "output_type": "execute_result",
          "data": {
            "text/plain": [
              "Churn\n",
              "0        0.734215\n",
              "1        0.265785\n",
              "dtype: float64"
            ]
          },
          "metadata": {},
          "execution_count": 46
        }
      ]
    },
    {
      "cell_type": "code",
      "source": [
        "# Fréquence des classes dans y_train\n",
        "pd.DataFrame(y_train).value_counts(normalize = True)"
      ],
      "metadata": {
        "colab": {
          "base_uri": "https://localhost:8080/"
        },
        "id": "yJvy12rMx4NY",
        "outputId": "0f40d140-8e6b-4bf9-fa2d-d471bc8d0bc7"
      },
      "execution_count": 47,
      "outputs": [
        {
          "output_type": "execute_result",
          "data": {
            "text/plain": [
              "Churn\n",
              "0        0.734297\n",
              "1        0.265703\n",
              "dtype: float64"
            ]
          },
          "metadata": {},
          "execution_count": 47
        }
      ]
    },
    {
      "cell_type": "code",
      "source": [
        "# Fréquence des classes dans y_val\n",
        "pd.DataFrame(y_val).value_counts(normalize = True)"
      ],
      "metadata": {
        "colab": {
          "base_uri": "https://localhost:8080/"
        },
        "id": "NnGYgt_92GQt",
        "outputId": "31afcf98-55a5-4c6b-c191-7d0528f72210"
      },
      "execution_count": 48,
      "outputs": [
        {
          "output_type": "execute_result",
          "data": {
            "text/plain": [
              "Churn\n",
              "0        0.733997\n",
              "1        0.266003\n",
              "dtype: float64"
            ]
          },
          "metadata": {},
          "execution_count": 48
        }
      ]
    },
    {
      "cell_type": "code",
      "source": [
        "# Fréquence des classes dans y_test\n",
        "pd.DataFrame(y_test).value_counts(normalize = True)"
      ],
      "metadata": {
        "colab": {
          "base_uri": "https://localhost:8080/"
        },
        "id": "LcCdFjxL5O-s",
        "outputId": "3e237b3e-50d9-48a1-c017-9801ba1c4b24"
      },
      "execution_count": 49,
      "outputs": [
        {
          "output_type": "execute_result",
          "data": {
            "text/plain": [
              "Churn\n",
              "0        0.734186\n",
              "1        0.265814\n",
              "dtype: float64"
            ]
          },
          "metadata": {},
          "execution_count": 49
        }
      ]
    },
    {
      "cell_type": "code",
      "source": [],
      "metadata": {
        "id": "g-vyid592GNZ"
      },
      "execution_count": null,
      "outputs": []
    }
  ]
}