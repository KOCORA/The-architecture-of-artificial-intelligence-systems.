{
  "nbformat": 4,
  "nbformat_minor": 0,
  "metadata": {
    "colab": {
      "provenance": [],
      "authorship_tag": "ABX9TyMs0+fiZelpP/dgKFkbAAjj",
      "include_colab_link": true
    },
    "kernelspec": {
      "name": "python3",
      "display_name": "Python 3"
    },
    "language_info": {
      "name": "python"
    }
  },
  "cells": [
    {
      "cell_type": "markdown",
      "metadata": {
        "id": "view-in-github",
        "colab_type": "text"
      },
      "source": [
        "<a href=\"https://colab.research.google.com/github/KOCORA/The-architecture-of-artificial-intelligence-systems./blob/master/Costumer_churn.ipynb\" target=\"_parent\"><img src=\"https://colab.research.google.com/assets/colab-badge.svg\" alt=\"Open In Colab\"/></a>"
      ]
    },
    {
      "cell_type": "markdown",
      "source": [
        "### **BUILDING A MACHINE LEARNING MODEL TO PREDICT CUSTOMER CHURN** \n",
        "\n",
        "### **ПОСТРОЕНИЕ МОДЕЛИ МАШИННОГО ОБУЧЕНИЯ ДЛЯ ПРОГНОЗИРОВАНИЯ ОТТОКА КЛИЕНТОВ (CUSTOMER CHURN)**\n",
        "\n",
        "### **CONSTRUCTION D'UN MODELE DE MACHINE LEARNING POUR PREDIRE LE DESABONNEMENT DES CLIENS D'UNE ENTREPRISE (CUSTOMER CHURN)**"
      ],
      "metadata": {
        "id": "hIiWKW-YBQqy"
      }
    },
    {
      "cell_type": "markdown",
      "source": [
        "Customer churn (This is customer churn in a business, supermarket or store.)\n",
        "\n",
        "Customer churn occurs when a customer decides to stop using a company's services, content or products. There are many examples and instances of churn:\n",
        "\n",
        "* Cancellation of a contracted or uncontracted service;\n",
        "* Purchase from another competing store;\n",
        "* Unsubscribing from a newsletter;\n",
        "* Closing a bank account;\n",
        "* Etc...\n",
        "\n",
        "In this business world where a company faces many competitors, the cost of acquiring new customers is very high. Therefore, the retention of existing customers is more important for companies. Therefore, the company must better understand the behavior of its customers in order to retain them. One way to do this is to create a Machine Learning or artificial neural network model that can predict which customers are likely to churn. This allows the company to better target and retain those specific customers who are at a higher risk of churn.\n",
        "\n",
        "In this project, we will explore a dataset from a telecommunications company and create a model to predict which customers are at higher risk of churn. We will use different Machine Learning algorithms to compare their performance and then choose the best model.\n",
        "\n",
        "*************\n",
        "\n",
        "Customer churn (Это отток клиентов в бизнесе, супермаркете или магазине).\n",
        "\n",
        "Отток клиентов происходит, когда клиент решает прекратить пользоваться услугами, контентом или продуктами компании. Существует множество примеров и случаев оттока:\n",
        "\n",
        "* Отказ от услуг по контракту или без него;\n",
        "* Покупка в магазине другого конкурента;\n",
        "* Отказ от подписки на рассылку новостей;\n",
        "* Закрытие банковского счета;\n",
        "* и т.д.\n",
        "\n",
        "В мире бизнеса, где компания сталкивается с множеством конкурентов, затраты на привлечение новых клиентов очень высоки. Поэтому удержание существующих клиентов становится более важным для компаний. Поэтому компании необходимо лучше понять поведение своих клиентов, чтобы удержать их. Один из способов сделать это - создать модель машинного обучения или искусственной нейронной сети, которая может предсказать, какие клиенты, скорее всего, будут отходить. Это позволит компании лучше ориентироваться и удерживать тех конкретных клиентов, которые подвержены повышенному риску оттока.\n",
        "\n",
        "В этом проекте мы изучим набор данных телекоммуникационной компании и создадим модель для прогнозирования того, какие клиенты подвержены повышенному риску оттока. Мы будем использовать различные алгоритмы машинного обучения, чтобы сравнить их производительность и затем выбрать лучшую модель."
      ],
      "metadata": {
        "id": "yPC4LYjPCi19"
      }
    },
    {
      "cell_type": "code",
      "execution_count": null,
      "metadata": {
        "id": "o4-wwV3NBAhN"
      },
      "outputs": [],
      "source": []
    },
    {
      "cell_type": "markdown",
      "source": [
        "## Importation des outils nécessaires"
      ],
      "metadata": {
        "id": "PRBuIIz9E_wU"
      }
    },
    {
      "cell_type": "code",
      "source": [
        "from ast import increment_lineno\n",
        "import pandas as pd\n",
        "import numpy as np\n",
        "import seaborn as sns\n",
        "import matplotlib.pyplot as plt\n",
        "%matplotlib inline\n",
        "import ipywidgets as widgets\n",
        "from ipywidgets import interact, interactive, fixed, interact_manual\n",
        "from sklearn.preprocessing import MinMaxScaler\n",
        "from sklearn.model_selection import train_test_split\n",
        "from sklearn.linear_model import LogisticRegression\n",
        "from sklearn "
      ],
      "metadata": {
        "id": "iPqKp97mE-s1"
      },
      "execution_count": 3,
      "outputs": []
    },
    {
      "cell_type": "code",
      "source": [],
      "metadata": {
        "id": "Pj20mdNNF9j_"
      },
      "execution_count": null,
      "outputs": []
    }
  ]
}